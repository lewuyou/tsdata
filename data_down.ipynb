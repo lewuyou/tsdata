{
 "cells": [
  {
   "cell_type": "code",
   "execution_count": 1,
   "metadata": {},
   "outputs": [],
   "source": [
    "from data_provider.data_creat import *\n",
    "import akshare as ak"
   ]
  },
  {
   "cell_type": "code",
   "execution_count": 5,
   "metadata": {},
   "outputs": [],
   "source": [
    "class Args:    \n",
    "    '''股票数据获取'''\n",
    "    fuquan = 'hfq'# 设置复权方式,adjust=空选择的不复权，qfq是前复权，应该用hfq后复权来进行量化分析\n",
    "    period = 'daily' # 拉取时间周期{'daily', 'weekly', 'monthly'}\n",
    "    start_date = '20151201'  # 20151201 下载数据的开始日期,0就是公司上市时间\n",
    "    end_date = '-1'  # 下载数据的结束日期,如果0则到最后一天,如果-1是昨天.\n",
    "    final_data_feat =  ['index', 'Volume','Tom_Chg'] # 删除不需要列的标签\n",
    "    label_n = 5 # 预测未来连续多少天的收益率\n",
    "    # 标签是否替换成1或者0\n",
    "    zhangfu = 0.10  # 预测涨幅大于等于3%的为1，小于3%的为0\n",
    "    label_ch = True  # 如果是True ，预测n天以后上涨大于变量zhangfu为1，小于为0\n",
    "    root_path = './dataset/Stock/'\n",
    "    data_addzero = 60 # 用于训练的数据集分割，前面补0的个数\n",
    "# 创建参数对象\n",
    "args = Args()"
   ]
  },
  {
   "cell_type": "code",
   "execution_count": 6,
   "metadata": {},
   "outputs": [],
   "source": [
    "stock_down = ak.stock_cy_a_spot_em() # 创业板实时数据\n",
    "stock_list = stock_down[~stock_down['名称'].str.contains(\"退|ST\") & (stock_down['流通市值'] <= 1e11) & (stock_down['总市值'] >= 45e8)] # 去除退市和ST股票\n",
    "# 保存数据，编码格式为utf-8\n",
    "file_name = 'Stock_list.csv'\n",
    "stock_list.to_csv(args.root_path + file_name,index=False,encoding='utf-8-sig')"
   ]
  },
  {
   "cell_type": "code",
   "execution_count": 7,
   "metadata": {},
   "outputs": [
    {
     "name": "stdout",
     "output_type": "stream",
     "text": [
      "获取数据时间为： 20151201 - 20231221\n",
      "原始数据形状： (1883, 9)\n",
      "添加数据以后形状： (1883, 33)\n",
      "添加label以后数据形状: (1883, 35)\n",
      "删除指定行、列后数据形状:  (1853, 33)\n",
      "处理进度: 1/608 (0.16%)\n",
      "当前all_data的形状: (1853, 33)\n",
      "获取数据时间为： 20151201 - 20231221\n",
      "原始数据形状： (1955, 9)\n",
      "添加数据以后形状： (1955, 33)\n",
      "添加label以后数据形状: (1955, 35)\n",
      "删除指定行、列后数据形状:  (1925, 33)\n",
      "处理进度: 2/608 (0.33%)\n",
      "当前all_data的形状: (3778, 33)\n",
      "数据保存完毕。\n"
     ]
    }
   ],
   "source": [
    "from sklearn.preprocessing import StandardScaler\n",
    "\n",
    "all_data_raw = pd.DataFrame()  # 初始化一个空的 DataFrame 用于存储原始数据\n",
    "all_data_scaled = pd.DataFrame()  # 初始化一个空的 DataFrame 用于存储标准化后的数据\n",
    "processed_count = 0  # 初始化计数器\n",
    "total_count = len(stock_list[\"代码\"].values)  # 获取总股票数量\n",
    "scaler = StandardScaler()\n",
    "\n",
    "for i in stock_list[\"代码\"].values[:]:\n",
    "    NUM = i\n",
    "    try:\n",
    "        # 下载原始数据\n",
    "        raw_data = download_data(NUM, args)\n",
    "        # 更新已处理股票数量计数器\n",
    "        processed_count += 1\n",
    "        # 检查数据长度，如果小于300则跳过此次循环\n",
    "        if raw_data.shape[0] < 300:\n",
    "            print(f\"股票代码 {NUM} 的数据长度小于300,跳过此次循环。\")\n",
    "            continue\n",
    "        \n",
    "        # 拼接数据，添加各种参数\n",
    "        ad_data = add_data(raw_data.copy(), args)\n",
    "        # 添加预测标签\n",
    "        ot_data = add_label(ad_data.copy(), args)\n",
    "        # 删除无效数据\n",
    "        final_data_raw = sub_data(ot_data.copy(), args)\n",
    "        final_data_scaled = final_data_raw.copy()\n",
    "        \n",
    "        # 如果args.data_addzero为True，并且all_data_raw不是空的，先将要拼接的数据的前20行替换为0\n",
    "        if args.data_addzero and not all_data_raw.empty:\n",
    "            final_data_raw = add_zeros_to_data(final_data_raw, num_rows=args.data_addzero)\n",
    "\n",
    "        # 存储未经标准化的数据\n",
    "        all_data_raw = pd.concat([all_data_raw, final_data_raw], ignore_index=True)\n",
    "\n",
    "        # 标准化处理\n",
    "        non_time_columns = final_data_scaled.columns[1:-1]  # 假设时间列是第一列\n",
    "        final_data_scaled[non_time_columns] = scaler.fit_transform(final_data_scaled[non_time_columns])\n",
    "\n",
    "        # 存储经过标准化的数据\n",
    "        # 如果args.data_addzero为True，并且all_data_scaled不是空的，先将要拼接的数据的前20行替换为0\n",
    "        if args.data_addzero and not all_data_scaled.empty:\n",
    "            final_data_scaled = add_zeros_to_data(final_data_scaled, num_rows=args.data_addzero)\n",
    "\n",
    "        # 存储经过标准化的数据\n",
    "        all_data_scaled = pd.concat([all_data_scaled, final_data_scaled], ignore_index=True)\n",
    "\n",
    "    except Exception as e:\n",
    "        print(f\"处理股票代码 {NUM} 时出现错误: {e}\")\n",
    "        continue\n",
    "\n",
    "    # 计算并打印处理进度\n",
    "    progress = processed_count / total_count\n",
    "    print(f\"处理进度: {processed_count}/{total_count} ({progress:.2%})\")\n",
    "    print(f\"当前all_data的形状: {all_data_scaled.shape}\")\n",
    "\n",
    "# 保存原始数据到 CSV 文件\n",
    "file_name_raw = \"all_data_raw.csv\"\n",
    "all_data_raw.to_csv(args.root_path + file_name_raw, index=False)\n",
    "\n",
    "# 保存标准化后的数据到 CSV 文件\n",
    "file_name_scaled = \"all_data_scaled.csv\"\n",
    "all_data_scaled.to_csv(args.root_path + file_name_scaled, index=False)\n",
    "print(\"数据保存完毕。\")"
   ]
  },
  {
   "cell_type": "code",
   "execution_count": 15,
   "metadata": {},
   "outputs": [
    {
     "name": "stdout",
     "output_type": "stream",
     "text": [
      "数据保存完毕。\n"
     ]
    }
   ],
   "source": [
    "# 保存标准化后的数据到 CSV 文件\n",
    "file_name_scaled = \"all_data_scaled.csv\"\n",
    "all_data_scaled.to_csv(args.root_path + file_name_scaled, index=False)\n",
    "print(\"数据保存完毕。\")"
   ]
  }
 ],
 "metadata": {
  "kernelspec": {
   "display_name": "my",
   "language": "python",
   "name": "python3"
  },
  "language_info": {
   "codemirror_mode": {
    "name": "ipython",
    "version": 3
   },
   "file_extension": ".py",
   "mimetype": "text/x-python",
   "name": "python",
   "nbconvert_exporter": "python",
   "pygments_lexer": "ipython3",
   "version": "3.11.4"
  }
 },
 "nbformat": 4,
 "nbformat_minor": 2
}
