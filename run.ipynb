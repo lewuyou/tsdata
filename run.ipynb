{
 "cells": [
  {
   "cell_type": "code",
   "execution_count": null,
   "metadata": {},
   "outputs": [],
   "source": [
    "# from google.colab import drive # 挂载谷歌云盘\n",
    "# drive.mount('/content/drive')\n",
    "# !nvidia-smi # 显示显卡信息\n",
    "# ''' 符号%代表一直生效，！代表执行完立马结束，不会生效，所以进入目录用% '''\n",
    "# %cd /content/drive/MyDrive/timeSerise\n",
    "# ''' 支持的 常用命令1.ls  2.wget  3.gdoint(int(int(int(w))))n  4.mkdir  5.pwd '''\n",
    "# !ls\n",
    "# !pip install pyti\n",
    "# !pip install patool\n",
    "# !pip install sktime\n",
    "# !pip install reformer_pytorch\n",
    "# !pip install akshare"
   ]
  },
  {
   "cell_type": "code",
   "execution_count": 1,
   "metadata": {},
   "outputs": [],
   "source": [
    "import random\n",
    "import numpy as np\n",
    "import torch\n",
    "from exp.exp_long_term_forecasting import Exp_Long_Term_Forecast\n",
    "# from exp.exp_imputation import Exp_Imputation\n",
    "# from exp.exp_short_term_forecasting import Exp_Short_Term_Forecast\n",
    "# from exp.exp_anomaly_detection import Exp_Anomaly_Detection\n",
    "# from exp.exp_classification import Exp_Classification\n",
    "# from data_provider.data_creat import *\n",
    "# import akshare as ak\n",
    "from torch.utils.tensorboard import SummaryWriter"
   ]
  },
  {
   "cell_type": "code",
   "execution_count": 6,
   "metadata": {},
   "outputs": [],
   "source": [
    "class Args:\n",
    "    '''基本配置'''\n",
    "    # 选项：[long_term_forecast, short_term_forecast, imputation, classification, anomaly_detection]')\n",
    "    task_name = 'long_term_forecast'\n",
    "    is_training = 1\n",
    "    model_id = 'Stock_96_96'\n",
    "    # 模型名称，选项：[Autoformer, Transformer, TimesNet]\n",
    "    model = 'TimesNet'\n",
    "    \n",
    "    '''数据加载'''\n",
    "    # 数据集类型,选项：[ETTh1,ETTh2,ETTm1,ETTm2,custom,m4,PSM,MSL,SMAP,SMD,SWAT,UEA]\n",
    "    data = 'custom'\n",
    "    root_path = './dataset/Stock/'\n",
    "    data_path = 'all_data_scaled.csv'\n",
    "    # 预测任务 M:多变量预测多变量, S:单变量预测单变量, MS:多变量预测单变量\n",
    "    features = 'MS'\n",
    "    # 目标列名，S或MS任务中的目标特征\n",
    "    target = 'OT'\n",
    "    # 时间采集粒度，选项：[s:秒, t:分钟, h:小时, d:天, b:工作日, w:周, m:月]\n",
    "    freq = 'd'\n",
    "    # 模型检查点的位置\n",
    "    checkpoints = './checkpoints/'\n",
    "\n",
    "    '''预测任务'''\n",
    "    # 输入序列长度,这是用于模型训练的输入序列的长度\n",
    "    seq_len = 60\n",
    "    # 开始标记长度,这是模型输出目标中有标签数据的长度，类似于滑动窗口的长度\n",
    "    label_len = 20\n",
    "    # 预测序列长度\n",
    "    pred_len = 1\n",
    "    # 季节模式（针对M4数据集）\n",
    "    seasonal_patterns = 'Monthly'\n",
    "    inverse = False    # 反转输出数据\n",
    "\n",
    "    '''插补任务'''\n",
    "    # 插补任务中数据丢失率\n",
    "    mask_rate = 0.25\n",
    "\n",
    "    '''异常检测任务'''\n",
    "    # 异常检测中异常点占比\n",
    "    anomaly_ratio = 0.25\n",
    "\n",
    "    '''模型定义'''\n",
    "    # TimesBlock 中傅里叶变换,频率排名前k个周期\n",
    "    top_k = 5\n",
    "    # Inception 中卷积核个数\n",
    "    num_kernels = 6\n",
    "    # encoder 输入特征数\n",
    "    enc_in = 38\n",
    "    # decoder 输入特征数\n",
    "    dec_in = 38\n",
    "    # 输出通道数\n",
    "    c_out = 38\n",
    "    # 线性层隐含神经元个数\n",
    "    d_model = 32\n",
    "    # FFN 层隐含神经元个数\n",
    "    d_ff = 32\n",
    "    # 多头注意力机制\n",
    "    n_heads = 8\n",
    "    # encoder 层数\n",
    "    e_layers = 2\n",
    "    # decoder 层数\n",
    "    d_layers = 1\n",
    "    # 滑动窗口长度\n",
    "    moving_avg = 20\n",
    "    # 对 Q 进行采样，对 Q 采样的因子数\n",
    "    factor = 3\n",
    "    # 是否下采样操作 pooling\n",
    "    distil = True\n",
    "    # dropout 率\n",
    "    dropout = 0.1\n",
    "    # 时间特征嵌入方式,选项：[timeF, fixed, learned]\n",
    "    embed = 'timeF'\n",
    "    # 激活函数类型\n",
    "    activation = 'gelu'\n",
    "    # 是否输出 attention\n",
    "    output_attention = False\n",
    "\n",
    "    '''优化'''\n",
    "    # 并行核心数\n",
    "    num_workers = 10\n",
    "    # 实验轮数\n",
    "    itr = 1\n",
    "    # 训练迭代次数\n",
    "    train_epochs = 500\n",
    "    # batch size 大小\n",
    "    batch_size = 60\n",
    "    # early stopping 机制容忍次数\n",
    "    patience = 5\n",
    "    # 学习率\n",
    "    learning_rate = 0.0001\n",
    "    # 实验描述\n",
    "    des = 'stock'\n",
    "    # 损失函数\n",
    "    loss = 'MSE'\n",
    "    # 学习率下降策略\n",
    "    lradj = 'type1'\n",
    "    # 使用混合精度训练\n",
    "    use_amp = False\n",
    "\n",
    "    '''GPU'''\n",
    "    # 使用 gpu\n",
    "    use_gpu = True\n",
    "    gpu = 0\n",
    "    # 使用多个 gpus\n",
    "    use_multi_gpu = False\n",
    "    # 多 gpu 的设备 id\n",
    "    devices = '0,1,2,3'\n",
    "\n",
    "    '''去平稳化投影仪参数'''\n",
    "    # 投影仪的隐藏层维度（列表）\n",
    "    p_hidden_dims = [128, 128]\n",
    "    # 投影仪中的隐藏层数\n",
    "    p_hidden_layers = 2\n",
    "\n",
    "\n",
    "# 创建参数对象\n",
    "args = Args()"
   ]
  },
  {
   "cell_type": "code",
   "execution_count": 7,
   "metadata": {},
   "outputs": [],
   "source": [
    "# 设置随机种子以确保结果可重现\n",
    "fix_seed = 2021\n",
    "random.seed(fix_seed)\n",
    "torch.manual_seed(fix_seed)\n",
    "np.random.seed(fix_seed)\n",
    "\n",
    "\n",
    "# 获取列数\n",
    "num_columns = 35\n",
    "# args.des = NUM\n",
    "args.enc_in = num_columns - 1\n",
    "args.dec_in = num_columns - 1\n",
    "args.c_out = num_columns - 1"
   ]
  },
  {
   "cell_type": "code",
   "execution_count": 8,
   "metadata": {},
   "outputs": [
    {
     "name": "stdout",
     "output_type": "stream",
     "text": [
      "使用 CPU.\n",
      "Use CPU\n",
      ">>>>>>>开始训练 : long_term_forecast_Stock_96_96_TimesNet_custom_ftMS_sl60_ll20_pl1_dm32_nh8_el2_dl1_df32_fc3_ebtimeF_dtTrue_stock_0>>>>>>>>>>>>>>>>>>>>>>>>>>\n",
      "train 546486\n",
      "val 78079\n",
      "test 156156\n"
     ]
    },
    {
     "name": "stderr",
     "output_type": "stream",
     "text": [
      "  1%|          | 99/9108 [01:54<2:05:37,  1.20it/s]"
     ]
    },
    {
     "name": "stdout",
     "output_type": "stream",
     "text": [
      "\titers: 100, epoch: 1 | loss: 0.8663696\n",
      "\tspeed: 1.1513s/iter; left time: 5243095.6112s\n"
     ]
    },
    {
     "name": "stderr",
     "output_type": "stream",
     "text": [
      "  2%|▏         | 199/9108 [03:15<1:49:23,  1.36it/s]"
     ]
    },
    {
     "name": "stdout",
     "output_type": "stream",
     "text": [
      "\titers: 200, epoch: 1 | loss: 1.0022806\n",
      "\tspeed: 0.8083s/iter; left time: 3680937.0456s\n"
     ]
    },
    {
     "name": "stderr",
     "output_type": "stream",
     "text": [
      "  3%|▎         | 299/9108 [04:28<1:44:02,  1.41it/s]"
     ]
    },
    {
     "name": "stdout",
     "output_type": "stream",
     "text": [
      "\titers: 300, epoch: 1 | loss: 2.1849055\n",
      "\tspeed: 0.7320s/iter; left time: 3333475.6894s\n"
     ]
    },
    {
     "name": "stderr",
     "output_type": "stream",
     "text": [
      "  4%|▍         | 399/9108 [05:39<1:45:12,  1.38it/s]"
     ]
    },
    {
     "name": "stdout",
     "output_type": "stream",
     "text": [
      "\titers: 400, epoch: 1 | loss: 1.0064937\n",
      "\tspeed: 0.7104s/iter; left time: 3234892.9788s\n"
     ]
    },
    {
     "name": "stderr",
     "output_type": "stream",
     "text": [
      "  5%|▌         | 499/9108 [06:51<1:42:38,  1.40it/s]"
     ]
    },
    {
     "name": "stdout",
     "output_type": "stream",
     "text": [
      "\titers: 500, epoch: 1 | loss: 0.9531299\n",
      "\tspeed: 0.7194s/iter; left time: 3275652.8085s\n"
     ]
    },
    {
     "name": "stderr",
     "output_type": "stream",
     "text": [
      "  7%|▋         | 599/9108 [08:05<1:49:59,  1.29it/s]"
     ]
    },
    {
     "name": "stdout",
     "output_type": "stream",
     "text": [
      "\titers: 600, epoch: 1 | loss: 0.3798094\n",
      "\tspeed: 0.7384s/iter; left time: 3362327.5994s\n"
     ]
    },
    {
     "name": "stderr",
     "output_type": "stream",
     "text": [
      "  8%|▊         | 699/9108 [09:21<1:57:07,  1.20it/s]"
     ]
    },
    {
     "name": "stdout",
     "output_type": "stream",
     "text": [
      "\titers: 700, epoch: 1 | loss: 0.7149499\n",
      "\tspeed: 0.7622s/iter; left time: 3470743.0984s\n"
     ]
    },
    {
     "name": "stderr",
     "output_type": "stream",
     "text": [
      "  9%|▉         | 799/9108 [10:36<1:41:19,  1.37it/s]"
     ]
    },
    {
     "name": "stdout",
     "output_type": "stream",
     "text": [
      "\titers: 800, epoch: 1 | loss: 1.3180363\n",
      "\tspeed: 0.7423s/iter; left time: 3379912.7289s\n"
     ]
    },
    {
     "name": "stderr",
     "output_type": "stream",
     "text": [
      " 10%|▉         | 899/9108 [11:49<1:38:11,  1.39it/s]"
     ]
    },
    {
     "name": "stdout",
     "output_type": "stream",
     "text": [
      "\titers: 900, epoch: 1 | loss: 0.6869546\n",
      "\tspeed: 0.7379s/iter; left time: 3359579.6108s\n"
     ]
    },
    {
     "name": "stderr",
     "output_type": "stream",
     "text": [
      " 11%|█         | 999/9108 [13:03<1:37:30,  1.39it/s]"
     ]
    },
    {
     "name": "stdout",
     "output_type": "stream",
     "text": [
      "\titers: 1000, epoch: 1 | loss: 0.7650936\n",
      "\tspeed: 0.7322s/iter; left time: 3333889.5923s\n"
     ]
    },
    {
     "name": "stderr",
     "output_type": "stream",
     "text": [
      " 12%|█▏        | 1099/9108 [14:16<1:36:50,  1.38it/s]"
     ]
    },
    {
     "name": "stdout",
     "output_type": "stream",
     "text": [
      "\titers: 1100, epoch: 1 | loss: 0.3370763\n",
      "\tspeed: 0.7307s/iter; left time: 3326646.3403s\n"
     ]
    },
    {
     "name": "stderr",
     "output_type": "stream",
     "text": [
      " 13%|█▎        | 1199/9108 [15:30<1:38:11,  1.34it/s]"
     ]
    },
    {
     "name": "stdout",
     "output_type": "stream",
     "text": [
      "\titers: 1200, epoch: 1 | loss: 0.6696013\n",
      "\tspeed: 0.7450s/iter; left time: 3391860.8316s\n"
     ]
    },
    {
     "name": "stderr",
     "output_type": "stream",
     "text": [
      " 14%|█▍        | 1299/9108 [16:45<1:35:49,  1.36it/s]"
     ]
    },
    {
     "name": "stdout",
     "output_type": "stream",
     "text": [
      "\titers: 1300, epoch: 1 | loss: 1.2384019\n",
      "\tspeed: 0.7433s/iter; left time: 3384015.4424s\n"
     ]
    },
    {
     "name": "stderr",
     "output_type": "stream",
     "text": [
      " 15%|█▌        | 1399/9108 [17:58<1:34:15,  1.36it/s]"
     ]
    },
    {
     "name": "stdout",
     "output_type": "stream",
     "text": [
      "\titers: 1400, epoch: 1 | loss: 0.4152983\n",
      "\tspeed: 0.7383s/iter; left time: 3361067.9804s\n"
     ]
    },
    {
     "name": "stderr",
     "output_type": "stream",
     "text": [
      " 16%|█▋        | 1499/9108 [19:14<1:36:53,  1.31it/s]"
     ]
    },
    {
     "name": "stdout",
     "output_type": "stream",
     "text": [
      "\titers: 1500, epoch: 1 | loss: 1.0813924\n",
      "\tspeed: 0.7545s/iter; left time: 3434865.2846s\n"
     ]
    },
    {
     "name": "stderr",
     "output_type": "stream",
     "text": [
      " 18%|█▊        | 1599/9108 [20:30<1:33:03,  1.34it/s]"
     ]
    },
    {
     "name": "stdout",
     "output_type": "stream",
     "text": [
      "\titers: 1600, epoch: 1 | loss: 0.6583334\n",
      "\tspeed: 0.7594s/iter; left time: 3457011.9079s\n"
     ]
    },
    {
     "name": "stderr",
     "output_type": "stream",
     "text": [
      " 19%|█▊        | 1699/9108 [21:45<1:31:16,  1.35it/s]"
     ]
    },
    {
     "name": "stdout",
     "output_type": "stream",
     "text": [
      "\titers: 1700, epoch: 1 | loss: 0.5419476\n",
      "\tspeed: 0.7550s/iter; left time: 3436981.2096s\n"
     ]
    },
    {
     "name": "stderr",
     "output_type": "stream",
     "text": [
      " 20%|█▉        | 1799/9108 [22:58<1:23:18,  1.46it/s]"
     ]
    },
    {
     "name": "stdout",
     "output_type": "stream",
     "text": [
      "\titers: 1800, epoch: 1 | loss: 0.7742000\n",
      "\tspeed: 0.7298s/iter; left time: 3322277.5927s\n"
     ]
    },
    {
     "name": "stderr",
     "output_type": "stream",
     "text": [
      " 21%|██        | 1899/9108 [24:02<1:15:07,  1.60it/s]"
     ]
    },
    {
     "name": "stdout",
     "output_type": "stream",
     "text": [
      "\titers: 1900, epoch: 1 | loss: 0.1839442\n",
      "\tspeed: 0.6336s/iter; left time: 2884218.7860s\n"
     ]
    },
    {
     "name": "stderr",
     "output_type": "stream",
     "text": [
      " 22%|██▏       | 1999/9108 [25:13<1:26:51,  1.36it/s]"
     ]
    },
    {
     "name": "stdout",
     "output_type": "stream",
     "text": [
      "\titers: 2000, epoch: 1 | loss: 0.2899348\n",
      "\tspeed: 0.7190s/iter; left time: 3272761.3547s\n"
     ]
    },
    {
     "name": "stderr",
     "output_type": "stream",
     "text": [
      " 23%|██▎       | 2099/9108 [26:26<1:21:11,  1.44it/s]"
     ]
    },
    {
     "name": "stdout",
     "output_type": "stream",
     "text": [
      "\titers: 2100, epoch: 1 | loss: 0.3029112\n",
      "\tspeed: 0.7285s/iter; left time: 3315906.2668s\n"
     ]
    },
    {
     "name": "stderr",
     "output_type": "stream",
     "text": [
      " 24%|██▍       | 2199/9108 [27:41<1:24:59,  1.35it/s]"
     ]
    },
    {
     "name": "stdout",
     "output_type": "stream",
     "text": [
      "\titers: 2200, epoch: 1 | loss: 0.6006108\n",
      "\tspeed: 0.7422s/iter; left time: 3378461.5864s\n"
     ]
    },
    {
     "name": "stderr",
     "output_type": "stream",
     "text": [
      " 25%|██▌       | 2299/9108 [30:19<1:26:08,  1.32it/s]"
     ]
    },
    {
     "name": "stdout",
     "output_type": "stream",
     "text": [
      "\titers: 2300, epoch: 1 | loss: 0.6706935\n",
      "\tspeed: 1.5800s/iter; left time: 7191737.5865s\n"
     ]
    },
    {
     "name": "stderr",
     "output_type": "stream",
     "text": [
      " 26%|██▋       | 2399/9108 [31:30<1:20:02,  1.40it/s]"
     ]
    },
    {
     "name": "stdout",
     "output_type": "stream",
     "text": [
      "\titers: 2400, epoch: 1 | loss: 0.2155542\n",
      "\tspeed: 0.7153s/iter; left time: 3255726.0540s\n"
     ]
    },
    {
     "name": "stderr",
     "output_type": "stream",
     "text": [
      " 27%|██▋       | 2499/9108 [32:38<1:17:12,  1.43it/s]"
     ]
    },
    {
     "name": "stdout",
     "output_type": "stream",
     "text": [
      "\titers: 2500, epoch: 1 | loss: 0.5631281\n",
      "\tspeed: 0.6746s/iter; left time: 3070391.3784s\n"
     ]
    },
    {
     "name": "stderr",
     "output_type": "stream",
     "text": [
      " 29%|██▊       | 2599/9108 [33:48<1:13:59,  1.47it/s]"
     ]
    },
    {
     "name": "stdout",
     "output_type": "stream",
     "text": [
      "\titers: 2600, epoch: 1 | loss: 0.9165055\n",
      "\tspeed: 0.7053s/iter; left time: 3209994.5667s\n"
     ]
    },
    {
     "name": "stderr",
     "output_type": "stream",
     "text": [
      " 30%|██▉       | 2699/9108 [34:58<1:15:41,  1.41it/s]"
     ]
    },
    {
     "name": "stdout",
     "output_type": "stream",
     "text": [
      "\titers: 2700, epoch: 1 | loss: 0.9664200\n",
      "\tspeed: 0.6990s/iter; left time: 3181539.1851s\n"
     ]
    },
    {
     "name": "stderr",
     "output_type": "stream",
     "text": [
      " 31%|███       | 2799/9108 [36:10<1:14:56,  1.40it/s]"
     ]
    },
    {
     "name": "stdout",
     "output_type": "stream",
     "text": [
      "\titers: 2800, epoch: 1 | loss: 0.3960405\n",
      "\tspeed: 0.7174s/iter; left time: 3265186.5814s\n"
     ]
    },
    {
     "name": "stderr",
     "output_type": "stream",
     "text": [
      " 32%|███▏      | 2899/9108 [37:21<1:17:18,  1.34it/s]"
     ]
    },
    {
     "name": "stdout",
     "output_type": "stream",
     "text": [
      "\titers: 2900, epoch: 1 | loss: 0.5895823\n",
      "\tspeed: 0.7157s/iter; left time: 3257149.5779s\n"
     ]
    },
    {
     "name": "stderr",
     "output_type": "stream",
     "text": [
      " 33%|███▎      | 2999/9108 [38:32<1:11:33,  1.42it/s]"
     ]
    },
    {
     "name": "stdout",
     "output_type": "stream",
     "text": [
      "\titers: 3000, epoch: 1 | loss: 0.5173441\n",
      "\tspeed: 0.7041s/iter; left time: 3204432.0610s\n"
     ]
    },
    {
     "name": "stderr",
     "output_type": "stream",
     "text": [
      " 34%|███▍      | 3099/9108 [39:43<1:11:31,  1.40it/s]"
     ]
    },
    {
     "name": "stdout",
     "output_type": "stream",
     "text": [
      "\titers: 3100, epoch: 1 | loss: 0.7082580\n",
      "\tspeed: 0.7145s/iter; left time: 3251840.6748s\n"
     ]
    },
    {
     "name": "stderr",
     "output_type": "stream",
     "text": [
      " 35%|███▌      | 3199/9108 [40:55<1:07:49,  1.45it/s]"
     ]
    },
    {
     "name": "stdout",
     "output_type": "stream",
     "text": [
      "\titers: 3200, epoch: 1 | loss: 0.3878894\n",
      "\tspeed: 0.7237s/iter; left time: 3293498.5486s\n"
     ]
    },
    {
     "name": "stderr",
     "output_type": "stream",
     "text": [
      " 36%|███▌      | 3299/9108 [42:06<1:08:25,  1.41it/s]"
     ]
    },
    {
     "name": "stdout",
     "output_type": "stream",
     "text": [
      "\titers: 3300, epoch: 1 | loss: 1.0943563\n",
      "\tspeed: 0.7050s/iter; left time: 3208470.1937s\n"
     ]
    },
    {
     "name": "stderr",
     "output_type": "stream",
     "text": [
      " 37%|███▋      | 3399/9108 [43:17<1:10:24,  1.35it/s]"
     ]
    },
    {
     "name": "stdout",
     "output_type": "stream",
     "text": [
      "\titers: 3400, epoch: 1 | loss: 0.5673426\n",
      "\tspeed: 0.7069s/iter; left time: 3216983.6983s\n"
     ]
    },
    {
     "name": "stderr",
     "output_type": "stream",
     "text": [
      " 38%|███▊      | 3499/9108 [44:28<1:06:16,  1.41it/s]"
     ]
    },
    {
     "name": "stdout",
     "output_type": "stream",
     "text": [
      "\titers: 3500, epoch: 1 | loss: 0.2805479\n",
      "\tspeed: 0.7087s/iter; left time: 3224772.8125s\n"
     ]
    },
    {
     "name": "stderr",
     "output_type": "stream",
     "text": [
      " 40%|███▉      | 3599/9108 [45:37<1:03:34,  1.44it/s]"
     ]
    },
    {
     "name": "stdout",
     "output_type": "stream",
     "text": [
      "\titers: 3600, epoch: 1 | loss: 0.2301708\n",
      "\tspeed: 0.6978s/iter; left time: 3175216.6455s\n"
     ]
    },
    {
     "name": "stderr",
     "output_type": "stream",
     "text": [
      " 41%|████      | 3699/9108 [46:47<1:02:06,  1.45it/s]"
     ]
    },
    {
     "name": "stdout",
     "output_type": "stream",
     "text": [
      "\titers: 3700, epoch: 1 | loss: 0.8914427\n",
      "\tspeed: 0.7004s/iter; left time: 3186889.3399s\n"
     ]
    },
    {
     "name": "stderr",
     "output_type": "stream",
     "text": [
      " 42%|████▏     | 3799/9108 [47:58<1:02:42,  1.41it/s]"
     ]
    },
    {
     "name": "stdout",
     "output_type": "stream",
     "text": [
      "\titers: 3800, epoch: 1 | loss: 1.0137941\n",
      "\tspeed: 0.7011s/iter; left time: 3190205.9087s\n"
     ]
    },
    {
     "name": "stderr",
     "output_type": "stream",
     "text": [
      " 43%|████▎     | 3899/9108 [49:08<1:00:14,  1.44it/s]"
     ]
    },
    {
     "name": "stdout",
     "output_type": "stream",
     "text": [
      "\titers: 3900, epoch: 1 | loss: 0.6448181\n",
      "\tspeed: 0.7066s/iter; left time: 3215151.2509s\n"
     ]
    },
    {
     "name": "stderr",
     "output_type": "stream",
     "text": [
      " 44%|████▍     | 3999/9108 [50:17<1:00:42,  1.40it/s]"
     ]
    },
    {
     "name": "stdout",
     "output_type": "stream",
     "text": [
      "\titers: 4000, epoch: 1 | loss: 0.6830981\n",
      "\tspeed: 0.6851s/iter; left time: 3117028.5686s\n"
     ]
    },
    {
     "name": "stderr",
     "output_type": "stream",
     "text": [
      " 45%|████▌     | 4099/9108 [51:26<56:08,  1.49it/s]  "
     ]
    },
    {
     "name": "stdout",
     "output_type": "stream",
     "text": [
      "\titers: 4100, epoch: 1 | loss: 0.6233813\n",
      "\tspeed: 0.6959s/iter; left time: 3166225.0088s\n"
     ]
    },
    {
     "name": "stderr",
     "output_type": "stream",
     "text": [
      " 46%|████▌     | 4199/9108 [52:36<56:43,  1.44it/s]  "
     ]
    },
    {
     "name": "stdout",
     "output_type": "stream",
     "text": [
      "\titers: 4200, epoch: 1 | loss: 0.7231668\n",
      "\tspeed: 0.6943s/iter; left time: 3158854.1695s\n"
     ]
    },
    {
     "name": "stderr",
     "output_type": "stream",
     "text": [
      " 47%|████▋     | 4299/9108 [53:45<54:58,  1.46it/s]  "
     ]
    },
    {
     "name": "stdout",
     "output_type": "stream",
     "text": [
      "\titers: 4300, epoch: 1 | loss: 0.1150180\n",
      "\tspeed: 0.6926s/iter; left time: 3151159.9775s\n"
     ]
    },
    {
     "name": "stderr",
     "output_type": "stream",
     "text": [
      " 48%|████▊     | 4399/9108 [54:54<56:49,  1.38it/s]"
     ]
    },
    {
     "name": "stdout",
     "output_type": "stream",
     "text": [
      "\titers: 4400, epoch: 1 | loss: 0.5616871\n",
      "\tspeed: 0.6910s/iter; left time: 3143826.7432s\n"
     ]
    },
    {
     "name": "stderr",
     "output_type": "stream",
     "text": [
      " 49%|████▉     | 4499/9108 [56:04<53:27,  1.44it/s]"
     ]
    },
    {
     "name": "stdout",
     "output_type": "stream",
     "text": [
      "\titers: 4500, epoch: 1 | loss: 0.4672359\n",
      "\tspeed: 0.6955s/iter; left time: 3164060.0489s\n"
     ]
    },
    {
     "name": "stderr",
     "output_type": "stream",
     "text": [
      " 50%|█████     | 4599/9108 [57:13<52:35,  1.43it/s]"
     ]
    },
    {
     "name": "stdout",
     "output_type": "stream",
     "text": [
      "\titers: 4600, epoch: 1 | loss: 0.8300365\n",
      "\tspeed: 0.6990s/iter; left time: 3179972.1133s\n"
     ]
    },
    {
     "name": "stderr",
     "output_type": "stream",
     "text": [
      " 52%|█████▏    | 4699/9108 [58:24<52:29,  1.40it/s]"
     ]
    },
    {
     "name": "stdout",
     "output_type": "stream",
     "text": [
      "\titers: 4700, epoch: 1 | loss: 1.2441167\n",
      "\tspeed: 0.7038s/iter; left time: 3201718.7403s\n"
     ]
    },
    {
     "name": "stderr",
     "output_type": "stream",
     "text": [
      " 53%|█████▎    | 4799/9108 [59:33<47:53,  1.50it/s]"
     ]
    },
    {
     "name": "stdout",
     "output_type": "stream",
     "text": [
      "\titers: 4800, epoch: 1 | loss: 0.4722267\n",
      "\tspeed: 0.6951s/iter; left time: 3162001.1635s\n"
     ]
    },
    {
     "name": "stderr",
     "output_type": "stream",
     "text": [
      " 54%|█████▍    | 4899/9108 [1:00:43<48:11,  1.46it/s]"
     ]
    },
    {
     "name": "stdout",
     "output_type": "stream",
     "text": [
      "\titers: 4900, epoch: 1 | loss: 0.3456684\n",
      "\tspeed: 0.6986s/iter; left time: 3178069.8166s\n"
     ]
    },
    {
     "name": "stderr",
     "output_type": "stream",
     "text": [
      " 55%|█████▍    | 4999/9108 [1:01:53<48:35,  1.41it/s]"
     ]
    },
    {
     "name": "stdout",
     "output_type": "stream",
     "text": [
      "\titers: 5000, epoch: 1 | loss: 0.4313855\n",
      "\tspeed: 0.6941s/iter; left time: 3157626.3219s\n"
     ]
    },
    {
     "name": "stderr",
     "output_type": "stream",
     "text": [
      " 56%|█████▌    | 5099/9108 [1:03:02<45:35,  1.47it/s]"
     ]
    },
    {
     "name": "stdout",
     "output_type": "stream",
     "text": [
      "\titers: 5100, epoch: 1 | loss: 0.3736728\n",
      "\tspeed: 0.6935s/iter; left time: 3154568.1261s\n"
     ]
    },
    {
     "name": "stderr",
     "output_type": "stream",
     "text": [
      " 57%|█████▋    | 5199/9108 [1:04:12<43:39,  1.49it/s]"
     ]
    },
    {
     "name": "stdout",
     "output_type": "stream",
     "text": [
      "\titers: 5200, epoch: 1 | loss: 0.8192635\n",
      "\tspeed: 0.6977s/iter; left time: 3173546.2772s\n"
     ]
    },
    {
     "name": "stderr",
     "output_type": "stream",
     "text": [
      " 58%|█████▊    | 5299/9108 [1:05:21<44:10,  1.44it/s]"
     ]
    },
    {
     "name": "stdout",
     "output_type": "stream",
     "text": [
      "\titers: 5300, epoch: 1 | loss: 0.5719799\n",
      "\tspeed: 0.6962s/iter; left time: 3166629.5524s\n"
     ]
    },
    {
     "name": "stderr",
     "output_type": "stream",
     "text": [
      " 59%|█████▉    | 5399/9108 [1:06:30<43:20,  1.43it/s]"
     ]
    },
    {
     "name": "stdout",
     "output_type": "stream",
     "text": [
      "\titers: 5400, epoch: 1 | loss: 0.1020740\n",
      "\tspeed: 0.6898s/iter; left time: 3137836.3124s\n"
     ]
    },
    {
     "name": "stderr",
     "output_type": "stream",
     "text": [
      " 60%|██████    | 5499/9108 [1:07:40<41:07,  1.46it/s]"
     ]
    },
    {
     "name": "stdout",
     "output_type": "stream",
     "text": [
      "\titers: 5500, epoch: 1 | loss: 0.2227203\n",
      "\tspeed: 0.7010s/iter; left time: 3188300.4175s\n"
     ]
    },
    {
     "name": "stderr",
     "output_type": "stream",
     "text": [
      " 61%|██████▏   | 5599/9108 [1:08:51<40:45,  1.43it/s]"
     ]
    },
    {
     "name": "stdout",
     "output_type": "stream",
     "text": [
      "\titers: 5600, epoch: 1 | loss: 0.7132603\n",
      "\tspeed: 0.7070s/iter; left time: 3215645.3129s\n"
     ]
    },
    {
     "name": "stderr",
     "output_type": "stream",
     "text": [
      " 63%|██████▎   | 5699/9108 [1:10:02<38:38,  1.47it/s]"
     ]
    },
    {
     "name": "stdout",
     "output_type": "stream",
     "text": [
      "\titers: 5700, epoch: 1 | loss: 0.4120057\n",
      "\tspeed: 0.7040s/iter; left time: 3201898.1685s\n"
     ]
    },
    {
     "name": "stderr",
     "output_type": "stream",
     "text": [
      " 64%|██████▎   | 5799/9108 [1:11:11<37:40,  1.46it/s]"
     ]
    },
    {
     "name": "stdout",
     "output_type": "stream",
     "text": [
      "\titers: 5800, epoch: 1 | loss: 0.3342551\n",
      "\tspeed: 0.6961s/iter; left time: 3165803.7392s\n"
     ]
    },
    {
     "name": "stderr",
     "output_type": "stream",
     "text": [
      " 65%|██████▍   | 5899/9108 [1:12:21<36:52,  1.45it/s]"
     ]
    },
    {
     "name": "stdout",
     "output_type": "stream",
     "text": [
      "\titers: 5900, epoch: 1 | loss: 1.1357238\n",
      "\tspeed: 0.6959s/iter; left time: 3164898.6189s\n"
     ]
    },
    {
     "name": "stderr",
     "output_type": "stream",
     "text": [
      " 66%|██████▌   | 5999/9108 [1:13:30<37:02,  1.40it/s]"
     ]
    },
    {
     "name": "stdout",
     "output_type": "stream",
     "text": [
      "\titers: 6000, epoch: 1 | loss: 1.0486729\n",
      "\tspeed: 0.6938s/iter; left time: 3155475.9767s\n"
     ]
    },
    {
     "name": "stderr",
     "output_type": "stream",
     "text": [
      " 67%|██████▋   | 6099/9108 [1:14:39<35:49,  1.40it/s]"
     ]
    },
    {
     "name": "stdout",
     "output_type": "stream",
     "text": [
      "\titers: 6100, epoch: 1 | loss: 0.4197575\n",
      "\tspeed: 0.6902s/iter; left time: 3138807.4174s\n"
     ]
    },
    {
     "name": "stderr",
     "output_type": "stream",
     "text": [
      " 68%|██████▊   | 6199/9108 [1:15:49<35:34,  1.36it/s]"
     ]
    },
    {
     "name": "stdout",
     "output_type": "stream",
     "text": [
      "\titers: 6200, epoch: 1 | loss: 0.7018597\n",
      "\tspeed: 0.7025s/iter; left time: 3194913.9089s\n"
     ]
    },
    {
     "name": "stderr",
     "output_type": "stream",
     "text": [
      " 69%|██████▉   | 6299/9108 [1:16:59<32:02,  1.46it/s]"
     ]
    },
    {
     "name": "stdout",
     "output_type": "stream",
     "text": [
      "\titers: 6300, epoch: 1 | loss: 0.7143108\n",
      "\tspeed: 0.6983s/iter; left time: 3175476.4739s\n"
     ]
    },
    {
     "name": "stderr",
     "output_type": "stream",
     "text": [
      " 70%|███████   | 6399/9108 [1:18:08<29:52,  1.51it/s]"
     ]
    },
    {
     "name": "stdout",
     "output_type": "stream",
     "text": [
      "\titers: 6400, epoch: 1 | loss: 0.6719310\n",
      "\tspeed: 0.6832s/iter; left time: 3107086.6492s\n"
     ]
    },
    {
     "name": "stderr",
     "output_type": "stream",
     "text": [
      " 71%|███████▏  | 6499/9108 [1:19:16<29:45,  1.46it/s]"
     ]
    },
    {
     "name": "stdout",
     "output_type": "stream",
     "text": [
      "\titers: 6500, epoch: 1 | loss: 0.6980821\n",
      "\tspeed: 0.6857s/iter; left time: 3118190.3376s\n"
     ]
    },
    {
     "name": "stderr",
     "output_type": "stream",
     "text": [
      " 72%|███████▏  | 6599/9108 [1:20:25<29:18,  1.43it/s]"
     ]
    },
    {
     "name": "stdout",
     "output_type": "stream",
     "text": [
      "\titers: 6600, epoch: 1 | loss: 0.9946191\n",
      "\tspeed: 0.6870s/iter; left time: 3124228.7107s\n"
     ]
    },
    {
     "name": "stderr",
     "output_type": "stream",
     "text": [
      " 74%|███████▎  | 6699/9108 [1:21:33<27:22,  1.47it/s]"
     ]
    },
    {
     "name": "stdout",
     "output_type": "stream",
     "text": [
      "\titers: 6700, epoch: 1 | loss: 0.8162021\n",
      "\tspeed: 0.6865s/iter; left time: 3121819.3467s\n"
     ]
    },
    {
     "name": "stderr",
     "output_type": "stream",
     "text": [
      " 75%|███████▍  | 6799/9108 [1:22:42<26:14,  1.47it/s]"
     ]
    },
    {
     "name": "stdout",
     "output_type": "stream",
     "text": [
      "\titers: 6800, epoch: 1 | loss: 0.8477522\n",
      "\tspeed: 0.6805s/iter; left time: 3094483.9501s\n"
     ]
    },
    {
     "name": "stderr",
     "output_type": "stream",
     "text": [
      " 76%|███████▌  | 6899/9108 [1:23:50<24:34,  1.50it/s]"
     ]
    },
    {
     "name": "stdout",
     "output_type": "stream",
     "text": [
      "\titers: 6900, epoch: 1 | loss: 0.6655856\n",
      "\tspeed: 0.6805s/iter; left time: 3094309.7304s\n"
     ]
    },
    {
     "name": "stderr",
     "output_type": "stream",
     "text": [
      " 77%|███████▋  | 6999/9108 [1:24:57<23:03,  1.52it/s]"
     ]
    },
    {
     "name": "stdout",
     "output_type": "stream",
     "text": [
      "\titers: 7000, epoch: 1 | loss: 0.8155267\n",
      "\tspeed: 0.6720s/iter; left time: 3055609.1204s\n"
     ]
    },
    {
     "name": "stderr",
     "output_type": "stream",
     "text": [
      " 78%|███████▊  | 7099/9108 [1:26:03<22:30,  1.49it/s]"
     ]
    },
    {
     "name": "stdout",
     "output_type": "stream",
     "text": [
      "\titers: 7100, epoch: 1 | loss: 0.8026069\n",
      "\tspeed: 0.6653s/iter; left time: 3025052.4643s\n"
     ]
    },
    {
     "name": "stderr",
     "output_type": "stream",
     "text": [
      " 79%|███████▉  | 7199/9108 [1:27:08<19:23,  1.64it/s]"
     ]
    },
    {
     "name": "stdout",
     "output_type": "stream",
     "text": [
      "\titers: 7200, epoch: 1 | loss: 0.8765141\n",
      "\tspeed: 0.6435s/iter; left time: 2925695.7026s\n"
     ]
    },
    {
     "name": "stderr",
     "output_type": "stream",
     "text": [
      " 80%|████████  | 7299/9108 [1:28:13<19:31,  1.54it/s]"
     ]
    },
    {
     "name": "stdout",
     "output_type": "stream",
     "text": [
      "\titers: 7300, epoch: 1 | loss: 0.6377031\n",
      "\tspeed: 0.6515s/iter; left time: 2962332.4657s\n"
     ]
    },
    {
     "name": "stderr",
     "output_type": "stream",
     "text": [
      " 81%|████████  | 7399/9108 [1:29:19<18:18,  1.56it/s]"
     ]
    },
    {
     "name": "stdout",
     "output_type": "stream",
     "text": [
      "\titers: 7400, epoch: 1 | loss: 0.5511908\n",
      "\tspeed: 0.6608s/iter; left time: 3004542.7914s\n"
     ]
    },
    {
     "name": "stderr",
     "output_type": "stream",
     "text": [
      " 82%|████████▏ | 7499/9108 [1:30:25<17:42,  1.51it/s]"
     ]
    },
    {
     "name": "stdout",
     "output_type": "stream",
     "text": [
      "\titers: 7500, epoch: 1 | loss: 0.9425268\n",
      "\tspeed: 0.6606s/iter; left time: 3003282.8666s\n"
     ]
    },
    {
     "name": "stderr",
     "output_type": "stream",
     "text": [
      " 83%|████████▎ | 7599/9108 [1:31:33<16:57,  1.48it/s]"
     ]
    },
    {
     "name": "stdout",
     "output_type": "stream",
     "text": [
      "\titers: 7600, epoch: 1 | loss: 1.2788159\n",
      "\tspeed: 0.6780s/iter; left time: 3082479.4411s\n"
     ]
    },
    {
     "name": "stderr",
     "output_type": "stream",
     "text": [
      " 85%|████████▍ | 7699/9108 [1:32:40<16:06,  1.46it/s]"
     ]
    },
    {
     "name": "stdout",
     "output_type": "stream",
     "text": [
      "\titers: 7700, epoch: 1 | loss: 0.4742309\n",
      "\tspeed: 0.6708s/iter; left time: 3049610.8413s\n"
     ]
    },
    {
     "name": "stderr",
     "output_type": "stream",
     "text": [
      " 86%|████████▌ | 7799/9108 [1:33:48<15:29,  1.41it/s]"
     ]
    },
    {
     "name": "stdout",
     "output_type": "stream",
     "text": [
      "\titers: 7800, epoch: 1 | loss: 0.6624559\n",
      "\tspeed: 0.6798s/iter; left time: 3090337.5179s\n"
     ]
    },
    {
     "name": "stderr",
     "output_type": "stream",
     "text": [
      " 87%|████████▋ | 7899/9108 [1:34:56<13:51,  1.45it/s]"
     ]
    },
    {
     "name": "stdout",
     "output_type": "stream",
     "text": [
      "\titers: 7900, epoch: 1 | loss: 1.0892777\n",
      "\tspeed: 0.6847s/iter; left time: 3112767.8481s\n"
     ]
    },
    {
     "name": "stderr",
     "output_type": "stream",
     "text": [
      " 88%|████████▊ | 7999/9108 [1:36:05<12:47,  1.45it/s]"
     ]
    },
    {
     "name": "stdout",
     "output_type": "stream",
     "text": [
      "\titers: 8000, epoch: 1 | loss: 0.4707714\n",
      "\tspeed: 0.6852s/iter; left time: 3114813.2984s\n"
     ]
    },
    {
     "name": "stderr",
     "output_type": "stream",
     "text": [
      " 89%|████████▉ | 8099/9108 [1:37:14<11:32,  1.46it/s]"
     ]
    },
    {
     "name": "stdout",
     "output_type": "stream",
     "text": [
      "\titers: 8100, epoch: 1 | loss: 1.0207053\n",
      "\tspeed: 0.6887s/iter; left time: 3130614.6347s\n"
     ]
    },
    {
     "name": "stderr",
     "output_type": "stream",
     "text": [
      " 90%|█████████ | 8199/9108 [1:38:23<10:26,  1.45it/s]"
     ]
    },
    {
     "name": "stdout",
     "output_type": "stream",
     "text": [
      "\titers: 8200, epoch: 1 | loss: 0.3770629\n",
      "\tspeed: 0.6942s/iter; left time: 3155893.2311s\n"
     ]
    },
    {
     "name": "stderr",
     "output_type": "stream",
     "text": [
      " 91%|█████████ | 8299/9108 [1:39:34<09:29,  1.42it/s]"
     ]
    },
    {
     "name": "stdout",
     "output_type": "stream",
     "text": [
      "\titers: 8300, epoch: 1 | loss: 0.3218666\n",
      "\tspeed: 0.7095s/iter; left time: 3225359.6136s\n"
     ]
    },
    {
     "name": "stderr",
     "output_type": "stream",
     "text": [
      " 92%|█████████▏| 8399/9108 [1:40:44<08:20,  1.42it/s]"
     ]
    },
    {
     "name": "stdout",
     "output_type": "stream",
     "text": [
      "\titers: 8400, epoch: 1 | loss: 0.2384002\n",
      "\tspeed: 0.6995s/iter; left time: 3179794.1870s\n"
     ]
    },
    {
     "name": "stderr",
     "output_type": "stream",
     "text": [
      " 93%|█████████▎| 8499/9108 [1:41:53<07:11,  1.41it/s]"
     ]
    },
    {
     "name": "stdout",
     "output_type": "stream",
     "text": [
      "\titers: 8500, epoch: 1 | loss: 0.7421529\n",
      "\tspeed: 0.6899s/iter; left time: 3135978.1173s\n"
     ]
    },
    {
     "name": "stderr",
     "output_type": "stream",
     "text": [
      " 94%|█████████▍| 8599/9108 [1:43:02<05:50,  1.45it/s]"
     ]
    },
    {
     "name": "stdout",
     "output_type": "stream",
     "text": [
      "\titers: 8600, epoch: 1 | loss: 0.7385415\n",
      "\tspeed: 0.6899s/iter; left time: 3135990.0144s\n"
     ]
    },
    {
     "name": "stderr",
     "output_type": "stream",
     "text": [
      " 96%|█████████▌| 8699/9108 [1:44:12<04:46,  1.43it/s]"
     ]
    },
    {
     "name": "stdout",
     "output_type": "stream",
     "text": [
      "\titers: 8700, epoch: 1 | loss: 1.4380643\n",
      "\tspeed: 0.7010s/iter; left time: 3186292.2784s\n"
     ]
    },
    {
     "name": "stderr",
     "output_type": "stream",
     "text": [
      " 97%|█████████▋| 8799/9108 [1:45:21<03:25,  1.50it/s]"
     ]
    },
    {
     "name": "stdout",
     "output_type": "stream",
     "text": [
      "\titers: 8800, epoch: 1 | loss: 0.5933656\n",
      "\tspeed: 0.6898s/iter; left time: 3135188.3414s\n"
     ]
    },
    {
     "name": "stderr",
     "output_type": "stream",
     "text": [
      " 98%|█████████▊| 8899/9108 [1:46:30<02:18,  1.51it/s]"
     ]
    },
    {
     "name": "stdout",
     "output_type": "stream",
     "text": [
      "\titers: 8900, epoch: 1 | loss: 0.9404530\n",
      "\tspeed: 0.6892s/iter; left time: 3132563.4117s\n"
     ]
    },
    {
     "name": "stderr",
     "output_type": "stream",
     "text": [
      " 99%|█████████▉| 8999/9108 [1:47:38<01:14,  1.46it/s]"
     ]
    },
    {
     "name": "stdout",
     "output_type": "stream",
     "text": [
      "\titers: 9000, epoch: 1 | loss: 1.3030795\n",
      "\tspeed: 0.6765s/iter; left time: 3074493.4060s\n"
     ]
    },
    {
     "name": "stderr",
     "output_type": "stream",
     "text": [
      "100%|█████████▉| 9099/9108 [1:48:46<00:06,  1.43it/s]"
     ]
    },
    {
     "name": "stdout",
     "output_type": "stream",
     "text": [
      "\titers: 9100, epoch: 1 | loss: 0.7362308\n",
      "\tspeed: 0.6870s/iter; left time: 3122138.2466s\n"
     ]
    },
    {
     "name": "stderr",
     "output_type": "stream",
     "text": [
      "100%|██████████| 9108/9108 [1:48:54<00:00,  1.39it/s]\n"
     ]
    },
    {
     "name": "stdout",
     "output_type": "stream",
     "text": [
      "Epoch: 1 cost time: 6534.241338014603\n",
      "Epoch: 1, Steps: 9108 | Train Loss: 0.7179543 Vali Loss: 0.6516766 Test Loss: 0.7165655\n",
      "Validation loss decreased (inf --> 0.651677).  Saving model ...\n",
      "Updating learning rate to 0.0001\n"
     ]
    },
    {
     "name": "stderr",
     "output_type": "stream",
     "text": [
      "  1%|          | 99/9108 [01:43<1:53:31,  1.32it/s]"
     ]
    },
    {
     "name": "stdout",
     "output_type": "stream",
     "text": [
      "\titers: 100, epoch: 2 | loss: 0.7651836\n",
      "\tspeed: 56.5190s/iter; left time: 256867005.1078s\n"
     ]
    },
    {
     "name": "stderr",
     "output_type": "stream",
     "text": [
      "  2%|▏         | 199/9108 [02:58<1:52:25,  1.32it/s]"
     ]
    },
    {
     "name": "stdout",
     "output_type": "stream",
     "text": [
      "\titers: 200, epoch: 2 | loss: 0.1744249\n",
      "\tspeed: 0.7472s/iter; left time: 3395706.6167s\n"
     ]
    },
    {
     "name": "stderr",
     "output_type": "stream",
     "text": [
      "  3%|▎         | 299/9108 [04:12<1:45:55,  1.39it/s]"
     ]
    },
    {
     "name": "stdout",
     "output_type": "stream",
     "text": [
      "\titers: 300, epoch: 2 | loss: 0.4572013\n",
      "\tspeed: 0.7432s/iter; left time: 3377487.9564s\n"
     ]
    },
    {
     "name": "stderr",
     "output_type": "stream",
     "text": [
      "  4%|▍         | 399/9108 [05:28<1:52:50,  1.29it/s]"
     ]
    },
    {
     "name": "stdout",
     "output_type": "stream",
     "text": [
      "\titers: 400, epoch: 2 | loss: 1.5055575\n",
      "\tspeed: 0.7586s/iter; left time: 3447518.5972s\n"
     ]
    },
    {
     "name": "stderr",
     "output_type": "stream",
     "text": [
      "  5%|▌         | 499/9108 [06:43<1:42:44,  1.40it/s]"
     ]
    },
    {
     "name": "stdout",
     "output_type": "stream",
     "text": [
      "\titers: 500, epoch: 2 | loss: 0.3377394\n",
      "\tspeed: 0.7470s/iter; left time: 3394689.0391s\n"
     ]
    },
    {
     "name": "stderr",
     "output_type": "stream",
     "text": [
      "  7%|▋         | 599/9108 [07:58<1:47:14,  1.32it/s]"
     ]
    },
    {
     "name": "stdout",
     "output_type": "stream",
     "text": [
      "\titers: 600, epoch: 2 | loss: 0.9771099\n",
      "\tspeed: 0.7501s/iter; left time: 3408799.1216s\n"
     ]
    },
    {
     "name": "stderr",
     "output_type": "stream",
     "text": [
      "  8%|▊         | 699/9108 [09:14<1:49:36,  1.28it/s]"
     ]
    },
    {
     "name": "stdout",
     "output_type": "stream",
     "text": [
      "\titers: 700, epoch: 2 | loss: 0.9119795\n",
      "\tspeed: 0.7621s/iter; left time: 3463178.5335s\n"
     ]
    },
    {
     "name": "stderr",
     "output_type": "stream",
     "text": [
      "  9%|▉         | 799/9108 [10:30<1:46:23,  1.30it/s]"
     ]
    },
    {
     "name": "stdout",
     "output_type": "stream",
     "text": [
      "\titers: 800, epoch: 2 | loss: 0.5425649\n",
      "\tspeed: 0.7634s/iter; left time: 3469035.1841s\n"
     ]
    },
    {
     "name": "stderr",
     "output_type": "stream",
     "text": [
      " 10%|▉         | 899/9108 [11:46<1:41:28,  1.35it/s]"
     ]
    },
    {
     "name": "stdout",
     "output_type": "stream",
     "text": [
      "\titers: 900, epoch: 2 | loss: 0.1049806\n",
      "\tspeed: 0.7550s/iter; left time: 3430745.2986s\n"
     ]
    },
    {
     "name": "stderr",
     "output_type": "stream",
     "text": [
      " 11%|█         | 999/9108 [13:02<1:40:06,  1.35it/s]"
     ]
    },
    {
     "name": "stdout",
     "output_type": "stream",
     "text": [
      "\titers: 1000, epoch: 2 | loss: 1.0364819\n",
      "\tspeed: 0.7593s/iter; left time: 3450210.2309s\n"
     ]
    },
    {
     "name": "stderr",
     "output_type": "stream",
     "text": [
      " 12%|█▏        | 1099/9108 [14:18<1:45:29,  1.27it/s]"
     ]
    },
    {
     "name": "stdout",
     "output_type": "stream",
     "text": [
      "\titers: 1100, epoch: 2 | loss: 1.0057157\n",
      "\tspeed: 0.7689s/iter; left time: 3493865.8422s\n"
     ]
    },
    {
     "name": "stderr",
     "output_type": "stream",
     "text": [
      " 13%|█▎        | 1199/9108 [15:34<1:41:48,  1.29it/s]"
     ]
    },
    {
     "name": "stdout",
     "output_type": "stream",
     "text": [
      "\titers: 1200, epoch: 2 | loss: 1.1408041\n",
      "\tspeed: 0.7580s/iter; left time: 3444345.5934s\n"
     ]
    },
    {
     "name": "stderr",
     "output_type": "stream",
     "text": [
      " 14%|█▍        | 1299/9108 [16:50<1:34:58,  1.37it/s]"
     ]
    },
    {
     "name": "stdout",
     "output_type": "stream",
     "text": [
      "\titers: 1300, epoch: 2 | loss: 0.6523961\n",
      "\tspeed: 0.7529s/iter; left time: 3420773.3589s\n"
     ]
    },
    {
     "name": "stderr",
     "output_type": "stream",
     "text": [
      " 15%|█▌        | 1399/9108 [18:04<1:37:31,  1.32it/s]"
     ]
    },
    {
     "name": "stdout",
     "output_type": "stream",
     "text": [
      "\titers: 1400, epoch: 2 | loss: 0.8694981\n",
      "\tspeed: 0.7415s/iter; left time: 3369180.6313s\n"
     ]
    },
    {
     "name": "stderr",
     "output_type": "stream",
     "text": [
      " 16%|█▋        | 1499/9108 [19:19<1:37:38,  1.30it/s]"
     ]
    },
    {
     "name": "stdout",
     "output_type": "stream",
     "text": [
      "\titers: 1500, epoch: 2 | loss: 0.4148307\n",
      "\tspeed: 0.7481s/iter; left time: 3398964.2307s\n"
     ]
    },
    {
     "name": "stderr",
     "output_type": "stream",
     "text": [
      " 18%|█▊        | 1599/9108 [20:34<1:36:17,  1.30it/s]"
     ]
    },
    {
     "name": "stdout",
     "output_type": "stream",
     "text": [
      "\titers: 1600, epoch: 2 | loss: 0.8733661\n",
      "\tspeed: 0.7506s/iter; left time: 3410017.3193s\n"
     ]
    },
    {
     "name": "stderr",
     "output_type": "stream",
     "text": [
      " 19%|█▊        | 1699/9108 [21:49<1:33:36,  1.32it/s]"
     ]
    },
    {
     "name": "stdout",
     "output_type": "stream",
     "text": [
      "\titers: 1700, epoch: 2 | loss: 0.7039171\n",
      "\tspeed: 0.7570s/iter; left time: 3439052.1951s\n"
     ]
    },
    {
     "name": "stderr",
     "output_type": "stream",
     "text": [
      " 20%|█▉        | 1799/9108 [23:03<1:28:27,  1.38it/s]"
     ]
    },
    {
     "name": "stdout",
     "output_type": "stream",
     "text": [
      "\titers: 1800, epoch: 2 | loss: 0.3046247\n",
      "\tspeed: 0.7390s/iter; left time: 3357498.6515s\n"
     ]
    },
    {
     "name": "stderr",
     "output_type": "stream",
     "text": [
      " 21%|██        | 1899/9108 [24:16<1:25:46,  1.40it/s]"
     ]
    },
    {
     "name": "stdout",
     "output_type": "stream",
     "text": [
      "\titers: 1900, epoch: 2 | loss: 0.9045965\n",
      "\tspeed: 0.7305s/iter; left time: 3318519.1729s\n"
     ]
    },
    {
     "name": "stderr",
     "output_type": "stream",
     "text": [
      " 22%|██▏       | 1999/9108 [25:30<1:27:43,  1.35it/s]"
     ]
    },
    {
     "name": "stdout",
     "output_type": "stream",
     "text": [
      "\titers: 2000, epoch: 2 | loss: 1.0936904\n",
      "\tspeed: 0.7421s/iter; left time: 3371381.3663s\n"
     ]
    },
    {
     "name": "stderr",
     "output_type": "stream",
     "text": [
      " 23%|██▎       | 2099/9108 [26:45<1:26:25,  1.35it/s]"
     ]
    },
    {
     "name": "stdout",
     "output_type": "stream",
     "text": [
      "\titers: 2100, epoch: 2 | loss: 0.7985226\n",
      "\tspeed: 0.7403s/iter; left time: 3363096.0281s\n"
     ]
    },
    {
     "name": "stderr",
     "output_type": "stream",
     "text": [
      " 24%|██▍       | 2199/9108 [27:59<1:24:11,  1.37it/s]"
     ]
    },
    {
     "name": "stdout",
     "output_type": "stream",
     "text": [
      "\titers: 2200, epoch: 2 | loss: 1.2007396\n",
      "\tspeed: 0.7411s/iter; left time: 3366587.3731s\n"
     ]
    },
    {
     "name": "stderr",
     "output_type": "stream",
     "text": [
      " 25%|██▌       | 2299/9108 [29:12<1:26:38,  1.31it/s]"
     ]
    },
    {
     "name": "stdout",
     "output_type": "stream",
     "text": [
      "\titers: 2300, epoch: 2 | loss: 0.8257552\n",
      "\tspeed: 0.7362s/iter; left time: 3344220.5496s\n"
     ]
    },
    {
     "name": "stderr",
     "output_type": "stream",
     "text": [
      " 26%|██▋       | 2399/9108 [30:26<1:24:00,  1.33it/s]"
     ]
    },
    {
     "name": "stdout",
     "output_type": "stream",
     "text": [
      "\titers: 2400, epoch: 2 | loss: 0.9570418\n",
      "\tspeed: 0.7401s/iter; left time: 3361960.1726s\n"
     ]
    },
    {
     "name": "stderr",
     "output_type": "stream",
     "text": [
      " 27%|██▋       | 2499/9108 [31:40<1:19:59,  1.38it/s]"
     ]
    },
    {
     "name": "stdout",
     "output_type": "stream",
     "text": [
      "\titers: 2500, epoch: 2 | loss: 0.5041437\n",
      "\tspeed: 0.7372s/iter; left time: 3348437.1905s\n"
     ]
    },
    {
     "name": "stderr",
     "output_type": "stream",
     "text": [
      " 29%|██▊       | 2599/9108 [32:54<1:18:47,  1.38it/s]"
     ]
    },
    {
     "name": "stdout",
     "output_type": "stream",
     "text": [
      "\titers: 2600, epoch: 2 | loss: 0.5677646\n",
      "\tspeed: 0.7406s/iter; left time: 3363895.9517s\n"
     ]
    },
    {
     "name": "stderr",
     "output_type": "stream",
     "text": [
      " 30%|██▉       | 2699/9108 [34:07<1:19:22,  1.35it/s]"
     ]
    },
    {
     "name": "stdout",
     "output_type": "stream",
     "text": [
      "\titers: 2700, epoch: 2 | loss: 0.5416418\n",
      "\tspeed: 0.7340s/iter; left time: 3333834.7966s\n"
     ]
    },
    {
     "name": "stderr",
     "output_type": "stream",
     "text": [
      " 31%|███       | 2799/9108 [35:21<1:20:04,  1.31it/s]"
     ]
    },
    {
     "name": "stdout",
     "output_type": "stream",
     "text": [
      "\titers: 2800, epoch: 2 | loss: 0.5527868\n",
      "\tspeed: 0.7403s/iter; left time: 3362496.6972s\n"
     ]
    },
    {
     "name": "stderr",
     "output_type": "stream",
     "text": [
      " 32%|███▏      | 2899/9108 [36:35<1:14:38,  1.39it/s]"
     ]
    },
    {
     "name": "stdout",
     "output_type": "stream",
     "text": [
      "\titers: 2900, epoch: 2 | loss: 0.6017334\n",
      "\tspeed: 0.7342s/iter; left time: 3334667.0375s\n"
     ]
    },
    {
     "name": "stderr",
     "output_type": "stream",
     "text": [
      " 33%|███▎      | 2999/9108 [37:48<1:14:46,  1.36it/s]"
     ]
    },
    {
     "name": "stdout",
     "output_type": "stream",
     "text": [
      "\titers: 3000, epoch: 2 | loss: 1.2509048\n",
      "\tspeed: 0.7333s/iter; left time: 3330567.5779s\n"
     ]
    },
    {
     "name": "stderr",
     "output_type": "stream",
     "text": [
      " 34%|███▍      | 3099/9108 [39:01<1:13:14,  1.37it/s]"
     ]
    },
    {
     "name": "stdout",
     "output_type": "stream",
     "text": [
      "\titers: 3100, epoch: 2 | loss: 0.1182595\n",
      "\tspeed: 0.7314s/iter; left time: 3321809.0611s\n"
     ]
    },
    {
     "name": "stderr",
     "output_type": "stream",
     "text": [
      " 35%|███▌      | 3199/9108 [40:14<1:12:05,  1.37it/s]"
     ]
    },
    {
     "name": "stdout",
     "output_type": "stream",
     "text": [
      "\titers: 3200, epoch: 2 | loss: 0.6676605\n",
      "\tspeed: 0.7313s/iter; left time: 3321154.1319s\n"
     ]
    },
    {
     "name": "stderr",
     "output_type": "stream",
     "text": [
      " 36%|███▌      | 3299/9108 [41:27<1:07:08,  1.44it/s]"
     ]
    },
    {
     "name": "stdout",
     "output_type": "stream",
     "text": [
      "\titers: 3300, epoch: 2 | loss: 1.1424659\n",
      "\tspeed: 0.7245s/iter; left time: 3290183.9859s\n"
     ]
    },
    {
     "name": "stderr",
     "output_type": "stream",
     "text": [
      " 37%|███▋      | 3399/9108 [42:39<1:08:11,  1.40it/s]"
     ]
    },
    {
     "name": "stdout",
     "output_type": "stream",
     "text": [
      "\titers: 3400, epoch: 2 | loss: 0.4656747\n",
      "\tspeed: 0.7209s/iter; left time: 3273799.6018s\n"
     ]
    },
    {
     "name": "stderr",
     "output_type": "stream",
     "text": [
      " 38%|███▊      | 3499/9108 [43:52<1:09:23,  1.35it/s]"
     ]
    },
    {
     "name": "stdout",
     "output_type": "stream",
     "text": [
      "\titers: 3500, epoch: 2 | loss: 0.5222698\n",
      "\tspeed: 0.7283s/iter; left time: 3307271.6632s\n"
     ]
    },
    {
     "name": "stderr",
     "output_type": "stream",
     "text": [
      " 40%|███▉      | 3599/9108 [45:05<1:05:37,  1.40it/s]"
     ]
    },
    {
     "name": "stdout",
     "output_type": "stream",
     "text": [
      "\titers: 3600, epoch: 2 | loss: 0.6580297\n",
      "\tspeed: 0.7311s/iter; left time: 3320308.3864s\n"
     ]
    },
    {
     "name": "stderr",
     "output_type": "stream",
     "text": [
      " 41%|████      | 3699/9108 [46:17<1:04:59,  1.39it/s]"
     ]
    },
    {
     "name": "stdout",
     "output_type": "stream",
     "text": [
      "\titers: 3700, epoch: 2 | loss: 0.7762769\n",
      "\tspeed: 0.7208s/iter; left time: 3273175.0654s\n"
     ]
    },
    {
     "name": "stderr",
     "output_type": "stream",
     "text": [
      " 42%|████▏     | 3799/9108 [47:31<1:05:50,  1.34it/s]"
     ]
    },
    {
     "name": "stdout",
     "output_type": "stream",
     "text": [
      "\titers: 3800, epoch: 2 | loss: 0.0302722\n",
      "\tspeed: 0.7371s/iter; left time: 3347054.7843s\n"
     ]
    },
    {
     "name": "stderr",
     "output_type": "stream",
     "text": [
      " 43%|████▎     | 3899/9108 [48:44<1:04:25,  1.35it/s]"
     ]
    },
    {
     "name": "stdout",
     "output_type": "stream",
     "text": [
      "\titers: 3900, epoch: 2 | loss: 0.4961759\n",
      "\tspeed: 0.7366s/iter; left time: 3344913.6796s\n"
     ]
    },
    {
     "name": "stderr",
     "output_type": "stream",
     "text": [
      " 44%|████▍     | 3999/9108 [49:59<1:03:39,  1.34it/s]"
     ]
    },
    {
     "name": "stdout",
     "output_type": "stream",
     "text": [
      "\titers: 4000, epoch: 2 | loss: 0.4531660\n",
      "\tspeed: 0.7430s/iter; left time: 3373689.4890s\n"
     ]
    },
    {
     "name": "stderr",
     "output_type": "stream",
     "text": [
      " 45%|████▌     | 4099/9108 [51:13<1:03:51,  1.31it/s]"
     ]
    },
    {
     "name": "stdout",
     "output_type": "stream",
     "text": [
      "\titers: 4100, epoch: 2 | loss: 0.3658305\n",
      "\tspeed: 0.7454s/iter; left time: 3384832.0877s\n"
     ]
    },
    {
     "name": "stderr",
     "output_type": "stream",
     "text": [
      " 46%|████▌     | 4199/9108 [52:27<1:01:19,  1.33it/s]"
     ]
    },
    {
     "name": "stdout",
     "output_type": "stream",
     "text": [
      "\titers: 4200, epoch: 2 | loss: 0.2042002\n",
      "\tspeed: 0.7369s/iter; left time: 3346023.6833s\n"
     ]
    },
    {
     "name": "stderr",
     "output_type": "stream",
     "text": [
      " 47%|████▋     | 4299/9108 [53:40<57:56,  1.38it/s]  "
     ]
    },
    {
     "name": "stdout",
     "output_type": "stream",
     "text": [
      "\titers: 4300, epoch: 2 | loss: 0.3159294\n",
      "\tspeed: 0.7344s/iter; left time: 3334456.5872s\n"
     ]
    },
    {
     "name": "stderr",
     "output_type": "stream",
     "text": [
      " 48%|████▊     | 4399/9108 [54:53<55:53,  1.40it/s]"
     ]
    },
    {
     "name": "stdout",
     "output_type": "stream",
     "text": [
      "\titers: 4400, epoch: 2 | loss: 0.3242121\n",
      "\tspeed: 0.7257s/iter; left time: 3294841.4190s\n"
     ]
    },
    {
     "name": "stderr",
     "output_type": "stream",
     "text": [
      " 49%|████▉     | 4499/9108 [56:05<55:37,  1.38it/s]"
     ]
    },
    {
     "name": "stdout",
     "output_type": "stream",
     "text": [
      "\titers: 4500, epoch: 2 | loss: 0.3496064\n",
      "\tspeed: 0.7233s/iter; left time: 3283901.3324s\n"
     ]
    },
    {
     "name": "stderr",
     "output_type": "stream",
     "text": [
      " 50%|█████     | 4599/9108 [57:18<53:24,  1.41it/s]"
     ]
    },
    {
     "name": "stdout",
     "output_type": "stream",
     "text": [
      "\titers: 4600, epoch: 2 | loss: 0.8493407\n",
      "\tspeed: 0.7269s/iter; left time: 3300165.2338s\n"
     ]
    },
    {
     "name": "stderr",
     "output_type": "stream",
     "text": [
      " 52%|█████▏    | 4699/9108 [58:30<52:49,  1.39it/s]"
     ]
    },
    {
     "name": "stdout",
     "output_type": "stream",
     "text": [
      "\titers: 4700, epoch: 2 | loss: 0.6837823\n",
      "\tspeed: 0.7220s/iter; left time: 3278164.1930s\n"
     ]
    },
    {
     "name": "stderr",
     "output_type": "stream",
     "text": [
      " 53%|█████▎    | 4799/9108 [59:43<52:16,  1.37it/s]"
     ]
    },
    {
     "name": "stdout",
     "output_type": "stream",
     "text": [
      "\titers: 4800, epoch: 2 | loss: 0.4338419\n",
      "\tspeed: 0.7319s/iter; left time: 3322773.7666s\n"
     ]
    },
    {
     "name": "stderr",
     "output_type": "stream",
     "text": [
      " 54%|█████▍    | 4899/9108 [1:00:56<50:53,  1.38it/s]"
     ]
    },
    {
     "name": "stdout",
     "output_type": "stream",
     "text": [
      "\titers: 4900, epoch: 2 | loss: 0.5359020\n",
      "\tspeed: 0.7308s/iter; left time: 3317642.8048s\n"
     ]
    },
    {
     "name": "stderr",
     "output_type": "stream",
     "text": [
      " 55%|█████▍    | 4999/9108 [1:02:09<46:57,  1.46it/s]"
     ]
    },
    {
     "name": "stdout",
     "output_type": "stream",
     "text": [
      "\titers: 5000, epoch: 2 | loss: 0.9567747\n",
      "\tspeed: 0.7289s/iter; left time: 3309034.8399s\n"
     ]
    },
    {
     "name": "stderr",
     "output_type": "stream",
     "text": [
      " 56%|█████▌    | 5099/9108 [1:03:22<51:11,  1.31it/s]"
     ]
    },
    {
     "name": "stdout",
     "output_type": "stream",
     "text": [
      "\titers: 5100, epoch: 2 | loss: 0.9030190\n",
      "\tspeed: 0.7300s/iter; left time: 3313944.0840s\n"
     ]
    },
    {
     "name": "stderr",
     "output_type": "stream",
     "text": [
      " 57%|█████▋    | 5199/9108 [1:04:36<45:57,  1.42it/s]"
     ]
    },
    {
     "name": "stdout",
     "output_type": "stream",
     "text": [
      "\titers: 5200, epoch: 2 | loss: 0.6077530\n",
      "\tspeed: 0.7326s/iter; left time: 3325869.8354s\n"
     ]
    },
    {
     "name": "stderr",
     "output_type": "stream",
     "text": [
      " 58%|█████▊    | 5299/9108 [1:05:50<46:20,  1.37it/s]"
     ]
    },
    {
     "name": "stdout",
     "output_type": "stream",
     "text": [
      "\titers: 5300, epoch: 2 | loss: 0.4514766\n",
      "\tspeed: 0.7400s/iter; left time: 3359112.3573s\n"
     ]
    },
    {
     "name": "stderr",
     "output_type": "stream",
     "text": [
      " 59%|█████▉    | 5399/9108 [1:07:03<43:41,  1.41it/s]"
     ]
    },
    {
     "name": "stdout",
     "output_type": "stream",
     "text": [
      "\titers: 5400, epoch: 2 | loss: 1.3596451\n",
      "\tspeed: 0.7328s/iter; left time: 3326339.2047s\n"
     ]
    },
    {
     "name": "stderr",
     "output_type": "stream",
     "text": [
      " 60%|██████    | 5499/9108 [1:08:17<44:20,  1.36it/s]"
     ]
    },
    {
     "name": "stdout",
     "output_type": "stream",
     "text": [
      "\titers: 5500, epoch: 2 | loss: 0.5816597\n",
      "\tspeed: 0.7373s/iter; left time: 3346933.2269s\n"
     ]
    },
    {
     "name": "stderr",
     "output_type": "stream",
     "text": [
      " 61%|██████▏   | 5599/9108 [1:09:31<43:16,  1.35it/s]"
     ]
    },
    {
     "name": "stdout",
     "output_type": "stream",
     "text": [
      "\titers: 5600, epoch: 2 | loss: 0.2086860\n",
      "\tspeed: 0.7472s/iter; left time: 3391957.3501s\n"
     ]
    },
    {
     "name": "stderr",
     "output_type": "stream",
     "text": [
      " 63%|██████▎   | 5699/9108 [1:10:45<41:50,  1.36it/s]"
     ]
    },
    {
     "name": "stdout",
     "output_type": "stream",
     "text": [
      "\titers: 5700, epoch: 2 | loss: 0.4074708\n",
      "\tspeed: 0.7391s/iter; left time: 3354754.0688s\n"
     ]
    },
    {
     "name": "stderr",
     "output_type": "stream",
     "text": [
      " 64%|██████▎   | 5799/9108 [1:12:01<41:04,  1.34it/s]"
     ]
    },
    {
     "name": "stdout",
     "output_type": "stream",
     "text": [
      "\titers: 5800, epoch: 2 | loss: 0.5418614\n",
      "\tspeed: 0.7561s/iter; left time: 3432154.9594s\n"
     ]
    },
    {
     "name": "stderr",
     "output_type": "stream",
     "text": [
      " 65%|██████▍   | 5899/9108 [1:13:14<39:24,  1.36it/s]"
     ]
    },
    {
     "name": "stdout",
     "output_type": "stream",
     "text": [
      "\titers: 5900, epoch: 2 | loss: 0.3734230\n",
      "\tspeed: 0.7307s/iter; left time: 3316729.8495s\n"
     ]
    },
    {
     "name": "stderr",
     "output_type": "stream",
     "text": [
      " 66%|██████▌   | 5999/9108 [1:14:29<39:25,  1.31it/s]"
     ]
    },
    {
     "name": "stdout",
     "output_type": "stream",
     "text": [
      "\titers: 6000, epoch: 2 | loss: 0.6268932\n",
      "\tspeed: 0.7542s/iter; left time: 3423124.0011s\n"
     ]
    },
    {
     "name": "stderr",
     "output_type": "stream",
     "text": [
      " 67%|██████▋   | 6099/9108 [1:15:45<38:24,  1.31it/s]"
     ]
    },
    {
     "name": "stdout",
     "output_type": "stream",
     "text": [
      "\titers: 6100, epoch: 2 | loss: 0.3664234\n",
      "\tspeed: 0.7541s/iter; left time: 3422726.1837s\n"
     ]
    },
    {
     "name": "stderr",
     "output_type": "stream",
     "text": [
      " 68%|██████▊   | 6199/9108 [1:16:59<35:51,  1.35it/s]"
     ]
    },
    {
     "name": "stdout",
     "output_type": "stream",
     "text": [
      "\titers: 6200, epoch: 2 | loss: 0.3960624\n",
      "\tspeed: 0.7476s/iter; left time: 3393270.4606s\n"
     ]
    },
    {
     "name": "stderr",
     "output_type": "stream",
     "text": [
      " 69%|██████▉   | 6299/9108 [1:18:14<35:32,  1.32it/s]"
     ]
    },
    {
     "name": "stdout",
     "output_type": "stream",
     "text": [
      "\titers: 6300, epoch: 2 | loss: 1.1557059\n",
      "\tspeed: 0.7427s/iter; left time: 3370950.8778s\n"
     ]
    },
    {
     "name": "stderr",
     "output_type": "stream",
     "text": [
      " 70%|███████   | 6399/9108 [1:19:30<34:05,  1.32it/s]"
     ]
    },
    {
     "name": "stdout",
     "output_type": "stream",
     "text": [
      "\titers: 6400, epoch: 2 | loss: 0.6943117\n",
      "\tspeed: 0.7591s/iter; left time: 3445095.7242s\n"
     ]
    },
    {
     "name": "stderr",
     "output_type": "stream",
     "text": [
      " 71%|███████▏  | 6499/9108 [1:20:44<31:34,  1.38it/s]"
     ]
    },
    {
     "name": "stdout",
     "output_type": "stream",
     "text": [
      "\titers: 6500, epoch: 2 | loss: 0.4248210\n",
      "\tspeed: 0.7485s/iter; left time: 3396771.7767s\n"
     ]
    },
    {
     "name": "stderr",
     "output_type": "stream",
     "text": [
      " 72%|███████▏  | 6599/9108 [1:21:58<31:20,  1.33it/s]"
     ]
    },
    {
     "name": "stdout",
     "output_type": "stream",
     "text": [
      "\titers: 6600, epoch: 2 | loss: 0.6250354\n",
      "\tspeed: 0.7380s/iter; left time: 3349166.1183s\n"
     ]
    },
    {
     "name": "stderr",
     "output_type": "stream",
     "text": [
      " 74%|███████▎  | 6699/9108 [1:23:13<29:44,  1.35it/s]"
     ]
    },
    {
     "name": "stdout",
     "output_type": "stream",
     "text": [
      "\titers: 6700, epoch: 2 | loss: 0.6591335\n",
      "\tspeed: 0.7440s/iter; left time: 3376244.8692s\n"
     ]
    },
    {
     "name": "stderr",
     "output_type": "stream",
     "text": [
      " 75%|███████▍  | 6799/9108 [1:24:27<28:45,  1.34it/s]"
     ]
    },
    {
     "name": "stdout",
     "output_type": "stream",
     "text": [
      "\titers: 6800, epoch: 2 | loss: 0.6816995\n",
      "\tspeed: 0.7449s/iter; left time: 3380584.4061s\n"
     ]
    },
    {
     "name": "stderr",
     "output_type": "stream",
     "text": [
      " 76%|███████▌  | 6899/9108 [1:25:42<26:42,  1.38it/s]"
     ]
    },
    {
     "name": "stdout",
     "output_type": "stream",
     "text": [
      "\titers: 6900, epoch: 2 | loss: 0.5611305\n",
      "\tspeed: 0.7440s/iter; left time: 3376439.0198s\n"
     ]
    },
    {
     "name": "stderr",
     "output_type": "stream",
     "text": [
      " 77%|███████▋  | 6999/9108 [1:26:57<26:18,  1.34it/s]"
     ]
    },
    {
     "name": "stdout",
     "output_type": "stream",
     "text": [
      "\titers: 7000, epoch: 2 | loss: 0.7362369\n",
      "\tspeed: 0.7559s/iter; left time: 3430409.9905s\n"
     ]
    },
    {
     "name": "stderr",
     "output_type": "stream",
     "text": [
      " 78%|███████▊  | 7099/9108 [1:28:12<25:10,  1.33it/s]"
     ]
    },
    {
     "name": "stdout",
     "output_type": "stream",
     "text": [
      "\titers: 7100, epoch: 2 | loss: 0.4493080\n",
      "\tspeed: 0.7442s/iter; left time: 3376910.9923s\n"
     ]
    },
    {
     "name": "stderr",
     "output_type": "stream",
     "text": [
      " 79%|███████▉  | 7199/9108 [1:29:28<24:24,  1.30it/s]"
     ]
    },
    {
     "name": "stdout",
     "output_type": "stream",
     "text": [
      "\titers: 7200, epoch: 2 | loss: 0.7820100\n",
      "\tspeed: 0.7630s/iter; left time: 3462450.1876s\n"
     ]
    },
    {
     "name": "stderr",
     "output_type": "stream",
     "text": [
      " 80%|████████  | 7299/9108 [1:30:42<21:54,  1.38it/s]"
     ]
    },
    {
     "name": "stdout",
     "output_type": "stream",
     "text": [
      "\titers: 7300, epoch: 2 | loss: 0.3568624\n",
      "\tspeed: 0.7430s/iter; left time: 3371313.5457s\n"
     ]
    },
    {
     "name": "stderr",
     "output_type": "stream",
     "text": [
      " 81%|████████  | 7399/9108 [1:31:57<22:03,  1.29it/s]"
     ]
    },
    {
     "name": "stdout",
     "output_type": "stream",
     "text": [
      "\titers: 7400, epoch: 2 | loss: 1.0052845\n",
      "\tspeed: 0.7447s/iter; left time: 3379032.4498s\n"
     ]
    },
    {
     "name": "stderr",
     "output_type": "stream",
     "text": [
      " 82%|████████▏ | 7499/9108 [1:33:11<20:39,  1.30it/s]"
     ]
    },
    {
     "name": "stdout",
     "output_type": "stream",
     "text": [
      "\titers: 7500, epoch: 2 | loss: 0.3706647\n",
      "\tspeed: 0.7470s/iter; left time: 3389219.0044s\n"
     ]
    },
    {
     "name": "stderr",
     "output_type": "stream",
     "text": [
      " 83%|████████▎ | 7599/9108 [1:34:27<19:12,  1.31it/s]"
     ]
    },
    {
     "name": "stdout",
     "output_type": "stream",
     "text": [
      "\titers: 7600, epoch: 2 | loss: 0.7757122\n",
      "\tspeed: 0.7577s/iter; left time: 3437891.7171s\n"
     ]
    },
    {
     "name": "stderr",
     "output_type": "stream",
     "text": [
      " 85%|████████▍ | 7699/9108 [1:35:42<17:19,  1.35it/s]"
     ]
    },
    {
     "name": "stdout",
     "output_type": "stream",
     "text": [
      "\titers: 7700, epoch: 2 | loss: 1.2942905\n",
      "\tspeed: 0.7511s/iter; left time: 3407895.6421s\n"
     ]
    },
    {
     "name": "stderr",
     "output_type": "stream",
     "text": [
      " 86%|████████▌ | 7799/9108 [1:36:58<16:54,  1.29it/s]"
     ]
    },
    {
     "name": "stdout",
     "output_type": "stream",
     "text": [
      "\titers: 7800, epoch: 2 | loss: 1.0369875\n",
      "\tspeed: 0.7545s/iter; left time: 3423457.6567s\n"
     ]
    },
    {
     "name": "stderr",
     "output_type": "stream",
     "text": [
      " 87%|████████▋ | 7899/9108 [1:38:12<14:46,  1.36it/s]"
     ]
    },
    {
     "name": "stdout",
     "output_type": "stream",
     "text": [
      "\titers: 7900, epoch: 2 | loss: 0.8905984\n",
      "\tspeed: 0.7462s/iter; left time: 3385337.0266s\n"
     ]
    },
    {
     "name": "stderr",
     "output_type": "stream",
     "text": [
      " 88%|████████▊ | 7999/9108 [1:39:27<14:01,  1.32it/s]"
     ]
    },
    {
     "name": "stdout",
     "output_type": "stream",
     "text": [
      "\titers: 8000, epoch: 2 | loss: 0.4142612\n",
      "\tspeed: 0.7509s/iter; left time: 3406817.6018s\n"
     ]
    },
    {
     "name": "stderr",
     "output_type": "stream",
     "text": [
      " 89%|████████▉ | 8099/9108 [1:40:42<12:33,  1.34it/s]"
     ]
    },
    {
     "name": "stdout",
     "output_type": "stream",
     "text": [
      "\titers: 8100, epoch: 2 | loss: 1.8836888\n",
      "\tspeed: 0.7505s/iter; left time: 3405000.4389s\n"
     ]
    },
    {
     "name": "stderr",
     "output_type": "stream",
     "text": [
      " 90%|█████████ | 8199/9108 [1:41:57<11:36,  1.30it/s]"
     ]
    },
    {
     "name": "stdout",
     "output_type": "stream",
     "text": [
      "\titers: 8200, epoch: 2 | loss: 0.7403069\n",
      "\tspeed: 0.7447s/iter; left time: 3378375.1193s\n"
     ]
    },
    {
     "name": "stderr",
     "output_type": "stream",
     "text": [
      " 91%|█████████ | 8299/9108 [1:43:12<10:04,  1.34it/s]"
     ]
    },
    {
     "name": "stdout",
     "output_type": "stream",
     "text": [
      "\titers: 8300, epoch: 2 | loss: 0.7493368\n",
      "\tspeed: 0.7470s/iter; left time: 3388632.4637s\n"
     ]
    },
    {
     "name": "stderr",
     "output_type": "stream",
     "text": [
      " 92%|█████████▏| 8399/9108 [1:44:27<08:51,  1.33it/s]"
     ]
    },
    {
     "name": "stdout",
     "output_type": "stream",
     "text": [
      "\titers: 8400, epoch: 2 | loss: 0.6651779\n",
      "\tspeed: 0.7502s/iter; left time: 3403228.9713s\n"
     ]
    },
    {
     "name": "stderr",
     "output_type": "stream",
     "text": [
      " 93%|█████████▎| 8499/9108 [1:45:42<07:34,  1.34it/s]"
     ]
    },
    {
     "name": "stdout",
     "output_type": "stream",
     "text": [
      "\titers: 8500, epoch: 2 | loss: 1.6371484\n",
      "\tspeed: 0.7498s/iter; left time: 3401423.9425s\n"
     ]
    },
    {
     "name": "stderr",
     "output_type": "stream",
     "text": [
      " 94%|█████████▍| 8599/9108 [1:46:57<06:24,  1.32it/s]"
     ]
    },
    {
     "name": "stdout",
     "output_type": "stream",
     "text": [
      "\titers: 8600, epoch: 2 | loss: 0.7085782\n",
      "\tspeed: 0.7512s/iter; left time: 3407662.6367s\n"
     ]
    },
    {
     "name": "stderr",
     "output_type": "stream",
     "text": [
      " 96%|█████████▌| 8699/9108 [1:48:11<05:09,  1.32it/s]"
     ]
    },
    {
     "name": "stdout",
     "output_type": "stream",
     "text": [
      "\titers: 8700, epoch: 2 | loss: 1.1008184\n",
      "\tspeed: 0.7458s/iter; left time: 3382953.9130s\n"
     ]
    },
    {
     "name": "stderr",
     "output_type": "stream",
     "text": [
      " 97%|█████████▋| 8799/9108 [1:49:25<03:53,  1.32it/s]"
     ]
    },
    {
     "name": "stdout",
     "output_type": "stream",
     "text": [
      "\titers: 8800, epoch: 2 | loss: 0.1793988\n",
      "\tspeed: 0.7352s/iter; left time: 3334967.8335s\n"
     ]
    },
    {
     "name": "stderr",
     "output_type": "stream",
     "text": [
      " 98%|█████████▊| 8899/9108 [1:50:40<02:39,  1.31it/s]"
     ]
    },
    {
     "name": "stdout",
     "output_type": "stream",
     "text": [
      "\titers: 8900, epoch: 2 | loss: 1.4606836\n",
      "\tspeed: 0.7506s/iter; left time: 3404895.6609s\n"
     ]
    },
    {
     "name": "stderr",
     "output_type": "stream",
     "text": [
      " 99%|█████████▉| 8999/9108 [1:51:56<01:25,  1.28it/s]"
     ]
    },
    {
     "name": "stdout",
     "output_type": "stream",
     "text": [
      "\titers: 9000, epoch: 2 | loss: 1.0147371\n",
      "\tspeed: 0.7572s/iter; left time: 3434596.2734s\n"
     ]
    },
    {
     "name": "stderr",
     "output_type": "stream",
     "text": [
      "100%|█████████▉| 9099/9108 [1:53:11<00:06,  1.34it/s]"
     ]
    },
    {
     "name": "stdout",
     "output_type": "stream",
     "text": [
      "\titers: 9100, epoch: 2 | loss: 0.8570577\n",
      "\tspeed: 0.7534s/iter; left time: 3417223.6939s\n"
     ]
    },
    {
     "name": "stderr",
     "output_type": "stream",
     "text": [
      "100%|██████████| 9108/9108 [1:53:18<00:00,  1.34it/s]\n"
     ]
    },
    {
     "name": "stdout",
     "output_type": "stream",
     "text": [
      "Epoch: 2 cost time: 6798.869236469269\n",
      "Epoch: 2, Steps: 9108 | Train Loss: 0.6798912 Vali Loss: 0.6451389 Test Loss: 0.7085145\n",
      "Validation loss decreased (0.651677 --> 0.645139).  Saving model ...\n",
      "Updating learning rate to 5e-05\n"
     ]
    },
    {
     "name": "stderr",
     "output_type": "stream",
     "text": [
      "  1%|          | 99/9108 [01:42<1:56:35,  1.29it/s]"
     ]
    },
    {
     "name": "stdout",
     "output_type": "stream",
     "text": [
      "\titers: 100, epoch: 3 | loss: 1.0158455\n",
      "\tspeed: 55.9801s/iter; left time: 253908217.7614s\n"
     ]
    },
    {
     "name": "stderr",
     "output_type": "stream",
     "text": [
      "  2%|▏         | 199/9108 [02:57<1:48:35,  1.37it/s]"
     ]
    },
    {
     "name": "stdout",
     "output_type": "stream",
     "text": [
      "\titers: 200, epoch: 3 | loss: 0.4204768\n",
      "\tspeed: 0.7522s/iter; left time: 3411619.0472s\n"
     ]
    },
    {
     "name": "stderr",
     "output_type": "stream",
     "text": [
      "  3%|▎         | 299/9108 [04:12<1:51:00,  1.32it/s]"
     ]
    },
    {
     "name": "stdout",
     "output_type": "stream",
     "text": [
      "\titers: 300, epoch: 3 | loss: 1.9444321\n",
      "\tspeed: 0.7468s/iter; left time: 3387225.6585s\n"
     ]
    },
    {
     "name": "stderr",
     "output_type": "stream",
     "text": [
      "  4%|▍         | 399/9108 [05:26<1:46:03,  1.37it/s]"
     ]
    },
    {
     "name": "stdout",
     "output_type": "stream",
     "text": [
      "\titers: 400, epoch: 3 | loss: 0.3246983\n",
      "\tspeed: 0.7440s/iter; left time: 3374456.1595s\n"
     ]
    },
    {
     "name": "stderr",
     "output_type": "stream",
     "text": [
      "  5%|▌         | 499/9108 [06:41<1:49:14,  1.31it/s]"
     ]
    },
    {
     "name": "stdout",
     "output_type": "stream",
     "text": [
      "\titers: 500, epoch: 3 | loss: 0.4832042\n",
      "\tspeed: 0.7516s/iter; left time: 3408731.2067s\n"
     ]
    },
    {
     "name": "stderr",
     "output_type": "stream",
     "text": [
      "  7%|▋         | 599/9108 [07:56<1:44:19,  1.36it/s]"
     ]
    },
    {
     "name": "stdout",
     "output_type": "stream",
     "text": [
      "\titers: 600, epoch: 3 | loss: 0.6918151\n",
      "\tspeed: 0.7499s/iter; left time: 3400854.9042s\n"
     ]
    },
    {
     "name": "stderr",
     "output_type": "stream",
     "text": [
      "  8%|▊         | 699/9108 [09:11<1:42:47,  1.36it/s]"
     ]
    },
    {
     "name": "stdout",
     "output_type": "stream",
     "text": [
      "\titers: 700, epoch: 3 | loss: 0.9046916\n",
      "\tspeed: 0.7424s/iter; left time: 3366719.0414s\n"
     ]
    },
    {
     "name": "stderr",
     "output_type": "stream",
     "text": [
      "  9%|▉         | 799/9108 [10:26<1:43:54,  1.33it/s]"
     ]
    },
    {
     "name": "stdout",
     "output_type": "stream",
     "text": [
      "\titers: 800, epoch: 3 | loss: 0.6557668\n",
      "\tspeed: 0.7554s/iter; left time: 3425509.2058s\n"
     ]
    },
    {
     "name": "stderr",
     "output_type": "stream",
     "text": [
      " 10%|▉         | 899/9108 [11:42<1:44:14,  1.31it/s]"
     ]
    },
    {
     "name": "stdout",
     "output_type": "stream",
     "text": [
      "\titers: 900, epoch: 3 | loss: 0.1572910\n",
      "\tspeed: 0.7543s/iter; left time: 3420808.5746s\n"
     ]
    },
    {
     "name": "stderr",
     "output_type": "stream",
     "text": [
      " 11%|█         | 999/9108 [12:57<1:43:10,  1.31it/s]"
     ]
    },
    {
     "name": "stdout",
     "output_type": "stream",
     "text": [
      "\titers: 1000, epoch: 3 | loss: 1.5092270\n",
      "\tspeed: 0.7505s/iter; left time: 3403129.5256s\n"
     ]
    },
    {
     "name": "stderr",
     "output_type": "stream",
     "text": [
      " 12%|█▏        | 1099/9108 [14:11<1:40:13,  1.33it/s]"
     ]
    },
    {
     "name": "stdout",
     "output_type": "stream",
     "text": [
      "\titers: 1100, epoch: 3 | loss: 0.6776972\n",
      "\tspeed: 0.7453s/iter; left time: 3379915.7706s\n"
     ]
    },
    {
     "name": "stderr",
     "output_type": "stream",
     "text": [
      " 13%|█▎        | 1199/9108 [15:26<1:41:17,  1.30it/s]"
     ]
    },
    {
     "name": "stdout",
     "output_type": "stream",
     "text": [
      "\titers: 1200, epoch: 3 | loss: 0.2299804\n",
      "\tspeed: 0.7471s/iter; left time: 3387709.1652s\n"
     ]
    },
    {
     "name": "stderr",
     "output_type": "stream",
     "text": [
      " 14%|█▍        | 1299/9108 [16:41<1:34:03,  1.38it/s]"
     ]
    },
    {
     "name": "stdout",
     "output_type": "stream",
     "text": [
      "\titers: 1300, epoch: 3 | loss: 0.6669492\n",
      "\tspeed: 0.7530s/iter; left time: 3414508.1011s\n"
     ]
    },
    {
     "name": "stderr",
     "output_type": "stream",
     "text": [
      " 15%|█▌        | 1399/9108 [17:56<1:34:53,  1.35it/s]"
     ]
    },
    {
     "name": "stdout",
     "output_type": "stream",
     "text": [
      "\titers: 1400, epoch: 3 | loss: 0.1465883\n",
      "\tspeed: 0.7459s/iter; left time: 3382302.1460s\n"
     ]
    },
    {
     "name": "stderr",
     "output_type": "stream",
     "text": [
      " 16%|█▋        | 1499/9108 [19:11<1:36:14,  1.32it/s]"
     ]
    },
    {
     "name": "stdout",
     "output_type": "stream",
     "text": [
      "\titers: 1500, epoch: 3 | loss: 0.9314260\n",
      "\tspeed: 0.7555s/iter; left time: 3425485.0108s\n"
     ]
    },
    {
     "name": "stderr",
     "output_type": "stream",
     "text": [
      " 18%|█▊        | 1599/9108 [20:27<1:34:29,  1.32it/s]"
     ]
    },
    {
     "name": "stdout",
     "output_type": "stream",
     "text": [
      "\titers: 1600, epoch: 3 | loss: 0.4039260\n",
      "\tspeed: 0.7522s/iter; left time: 3410809.0309s\n"
     ]
    },
    {
     "name": "stderr",
     "output_type": "stream",
     "text": [
      " 19%|█▊        | 1699/9108 [21:41<1:32:55,  1.33it/s]"
     ]
    },
    {
     "name": "stdout",
     "output_type": "stream",
     "text": [
      "\titers: 1700, epoch: 3 | loss: 0.6194360\n",
      "\tspeed: 0.7472s/iter; left time: 3387963.4422s\n"
     ]
    },
    {
     "name": "stderr",
     "output_type": "stream",
     "text": [
      " 20%|█▉        | 1799/9108 [22:55<1:29:51,  1.36it/s]"
     ]
    },
    {
     "name": "stdout",
     "output_type": "stream",
     "text": [
      "\titers: 1800, epoch: 3 | loss: 0.2896047\n",
      "\tspeed: 0.7424s/iter; left time: 3366210.8162s\n"
     ]
    },
    {
     "name": "stderr",
     "output_type": "stream",
     "text": [
      " 21%|██        | 1899/9108 [24:10<1:30:26,  1.33it/s]"
     ]
    },
    {
     "name": "stdout",
     "output_type": "stream",
     "text": [
      "\titers: 1900, epoch: 3 | loss: 0.5137439\n",
      "\tspeed: 0.7485s/iter; left time: 3393428.3655s\n"
     ]
    },
    {
     "name": "stderr",
     "output_type": "stream",
     "text": [
      " 22%|██▏       | 1999/9108 [25:25<1:30:33,  1.31it/s]"
     ]
    },
    {
     "name": "stdout",
     "output_type": "stream",
     "text": [
      "\titers: 2000, epoch: 3 | loss: 0.4109732\n",
      "\tspeed: 0.7465s/iter; left time: 3384261.8749s\n"
     ]
    },
    {
     "name": "stderr",
     "output_type": "stream",
     "text": [
      " 23%|██▎       | 2099/9108 [26:39<1:28:21,  1.32it/s]"
     ]
    },
    {
     "name": "stdout",
     "output_type": "stream",
     "text": [
      "\titers: 2100, epoch: 3 | loss: 0.7019449\n",
      "\tspeed: 0.7453s/iter; left time: 3378853.2611s\n"
     ]
    },
    {
     "name": "stderr",
     "output_type": "stream",
     "text": [
      " 24%|██▍       | 2199/9108 [27:54<1:27:41,  1.31it/s]"
     ]
    },
    {
     "name": "stdout",
     "output_type": "stream",
     "text": [
      "\titers: 2200, epoch: 3 | loss: 0.7276224\n",
      "\tspeed: 0.7472s/iter; left time: 3387323.5218s\n"
     ]
    },
    {
     "name": "stderr",
     "output_type": "stream",
     "text": [
      " 25%|██▌       | 2299/9108 [29:09<1:24:17,  1.35it/s]"
     ]
    },
    {
     "name": "stdout",
     "output_type": "stream",
     "text": [
      "\titers: 2300, epoch: 3 | loss: 0.4798562\n",
      "\tspeed: 0.7451s/iter; left time: 3377909.2171s\n"
     ]
    },
    {
     "name": "stderr",
     "output_type": "stream",
     "text": [
      " 26%|██▋       | 2399/9108 [30:23<1:21:14,  1.38it/s]"
     ]
    },
    {
     "name": "stdout",
     "output_type": "stream",
     "text": [
      "\titers: 2400, epoch: 3 | loss: 0.9699429\n",
      "\tspeed: 0.7450s/iter; left time: 3377585.8860s\n"
     ]
    },
    {
     "name": "stderr",
     "output_type": "stream",
     "text": [
      " 27%|██▋       | 2499/9108 [31:38<1:21:51,  1.35it/s]"
     ]
    },
    {
     "name": "stdout",
     "output_type": "stream",
     "text": [
      "\titers: 2500, epoch: 3 | loss: 0.6675506\n",
      "\tspeed: 0.7463s/iter; left time: 3383065.7444s\n"
     ]
    },
    {
     "name": "stderr",
     "output_type": "stream",
     "text": [
      " 29%|██▊       | 2599/9108 [32:53<1:20:47,  1.34it/s]"
     ]
    },
    {
     "name": "stdout",
     "output_type": "stream",
     "text": [
      "\titers: 2600, epoch: 3 | loss: 0.3225584\n",
      "\tspeed: 0.7548s/iter; left time: 3421620.3705s\n"
     ]
    },
    {
     "name": "stderr",
     "output_type": "stream",
     "text": [
      " 30%|██▉       | 2699/9108 [34:07<1:20:30,  1.33it/s]"
     ]
    },
    {
     "name": "stdout",
     "output_type": "stream",
     "text": [
      "\titers: 2700, epoch: 3 | loss: 0.0556902\n",
      "\tspeed: 0.7411s/iter; left time: 3359272.4262s\n"
     ]
    },
    {
     "name": "stderr",
     "output_type": "stream",
     "text": [
      " 31%|███       | 2799/9108 [35:22<1:17:18,  1.36it/s]"
     ]
    },
    {
     "name": "stdout",
     "output_type": "stream",
     "text": [
      "\titers: 2800, epoch: 3 | loss: 1.2403829\n",
      "\tspeed: 0.7465s/iter; left time: 3383734.9495s\n"
     ]
    },
    {
     "name": "stderr",
     "output_type": "stream",
     "text": [
      " 32%|███▏      | 2899/9108 [36:37<1:18:36,  1.32it/s]"
     ]
    },
    {
     "name": "stdout",
     "output_type": "stream",
     "text": [
      "\titers: 2900, epoch: 3 | loss: 0.4424197\n",
      "\tspeed: 0.7507s/iter; left time: 3402889.6463s\n"
     ]
    },
    {
     "name": "stderr",
     "output_type": "stream",
     "text": [
      " 33%|███▎      | 2999/9108 [37:51<1:17:09,  1.32it/s]"
     ]
    },
    {
     "name": "stdout",
     "output_type": "stream",
     "text": [
      "\titers: 3000, epoch: 3 | loss: 0.8177208\n",
      "\tspeed: 0.7430s/iter; left time: 3368023.1410s\n"
     ]
    },
    {
     "name": "stderr",
     "output_type": "stream",
     "text": [
      " 34%|███▍      | 3099/9108 [39:06<1:12:31,  1.38it/s]"
     ]
    },
    {
     "name": "stdout",
     "output_type": "stream",
     "text": [
      "\titers: 3100, epoch: 3 | loss: 0.6552473\n",
      "\tspeed: 0.7455s/iter; left time: 3379102.9840s\n"
     ]
    },
    {
     "name": "stderr",
     "output_type": "stream",
     "text": [
      " 35%|███▌      | 3199/9108 [40:20<1:12:58,  1.35it/s]"
     ]
    },
    {
     "name": "stdout",
     "output_type": "stream",
     "text": [
      "\titers: 3200, epoch: 3 | loss: 0.5350712\n",
      "\tspeed: 0.7430s/iter; left time: 3367847.9065s\n"
     ]
    },
    {
     "name": "stderr",
     "output_type": "stream",
     "text": [
      " 36%|███▌      | 3299/9108 [41:35<1:13:37,  1.31it/s]"
     ]
    },
    {
     "name": "stdout",
     "output_type": "stream",
     "text": [
      "\titers: 3300, epoch: 3 | loss: 0.3502400\n",
      "\tspeed: 0.7480s/iter; left time: 3390341.2790s\n"
     ]
    },
    {
     "name": "stderr",
     "output_type": "stream",
     "text": [
      " 37%|███▋      | 3399/9108 [42:50<1:12:37,  1.31it/s]"
     ]
    },
    {
     "name": "stdout",
     "output_type": "stream",
     "text": [
      "\titers: 3400, epoch: 3 | loss: 0.4277445\n",
      "\tspeed: 0.7473s/iter; left time: 3387015.8999s\n"
     ]
    },
    {
     "name": "stderr",
     "output_type": "stream",
     "text": [
      " 38%|███▊      | 3499/9108 [44:05<1:10:22,  1.33it/s]"
     ]
    },
    {
     "name": "stdout",
     "output_type": "stream",
     "text": [
      "\titers: 3500, epoch: 3 | loss: 0.7630989\n",
      "\tspeed: 0.7509s/iter; left time: 3403429.5069s\n"
     ]
    },
    {
     "name": "stderr",
     "output_type": "stream",
     "text": [
      " 40%|███▉      | 3599/9108 [45:20<1:07:18,  1.36it/s]"
     ]
    },
    {
     "name": "stdout",
     "output_type": "stream",
     "text": [
      "\titers: 3600, epoch: 3 | loss: 0.3265612\n",
      "\tspeed: 0.7498s/iter; left time: 3398092.8464s\n"
     ]
    },
    {
     "name": "stderr",
     "output_type": "stream",
     "text": [
      " 41%|████      | 3699/9108 [46:35<1:06:57,  1.35it/s]"
     ]
    },
    {
     "name": "stdout",
     "output_type": "stream",
     "text": [
      "\titers: 3700, epoch: 3 | loss: 0.4398825\n",
      "\tspeed: 0.7521s/iter; left time: 3408418.9638s\n"
     ]
    },
    {
     "name": "stderr",
     "output_type": "stream",
     "text": [
      " 42%|████▏     | 3799/9108 [47:50<1:06:07,  1.34it/s]"
     ]
    },
    {
     "name": "stdout",
     "output_type": "stream",
     "text": [
      "\titers: 3800, epoch: 3 | loss: 1.0000157\n",
      "\tspeed: 0.7489s/iter; left time: 3394130.0017s\n"
     ]
    },
    {
     "name": "stderr",
     "output_type": "stream",
     "text": [
      " 43%|████▎     | 3899/9108 [49:05<1:07:54,  1.28it/s]"
     ]
    },
    {
     "name": "stdout",
     "output_type": "stream",
     "text": [
      "\titers: 3900, epoch: 3 | loss: 0.7076535\n",
      "\tspeed: 0.7544s/iter; left time: 3418682.0657s\n"
     ]
    },
    {
     "name": "stderr",
     "output_type": "stream",
     "text": [
      " 44%|████▍     | 3999/9108 [50:21<1:02:02,  1.37it/s]"
     ]
    },
    {
     "name": "stdout",
     "output_type": "stream",
     "text": [
      "\titers: 4000, epoch: 3 | loss: 0.5938917\n",
      "\tspeed: 0.7550s/iter; left time: 3421568.1859s\n"
     ]
    },
    {
     "name": "stderr",
     "output_type": "stream",
     "text": [
      " 45%|████▌     | 4099/9108 [51:37<1:02:35,  1.33it/s]"
     ]
    },
    {
     "name": "stdout",
     "output_type": "stream",
     "text": [
      "\titers: 4100, epoch: 3 | loss: 0.5655840\n",
      "\tspeed: 0.7577s/iter; left time: 3433772.4445s\n"
     ]
    },
    {
     "name": "stderr",
     "output_type": "stream",
     "text": [
      " 46%|████▌     | 4199/9108 [52:52<1:02:42,  1.30it/s]"
     ]
    },
    {
     "name": "stdout",
     "output_type": "stream",
     "text": [
      "\titers: 4200, epoch: 3 | loss: 0.4642399\n",
      "\tspeed: 0.7573s/iter; left time: 3431574.6416s\n"
     ]
    },
    {
     "name": "stderr",
     "output_type": "stream",
     "text": [
      " 47%|████▋     | 4299/9108 [54:07<1:00:02,  1.33it/s]"
     ]
    },
    {
     "name": "stdout",
     "output_type": "stream",
     "text": [
      "\titers: 4300, epoch: 3 | loss: 0.8296440\n",
      "\tspeed: 0.7482s/iter; left time: 3390367.9418s\n"
     ]
    },
    {
     "name": "stderr",
     "output_type": "stream",
     "text": [
      " 48%|████▊     | 4399/9108 [55:23<1:00:00,  1.31it/s]"
     ]
    },
    {
     "name": "stdout",
     "output_type": "stream",
     "text": [
      "\titers: 4400, epoch: 3 | loss: 0.4843355\n",
      "\tspeed: 0.7615s/iter; left time: 3450816.6741s\n"
     ]
    },
    {
     "name": "stderr",
     "output_type": "stream",
     "text": [
      " 49%|████▉     | 4499/9108 [56:39<58:13,  1.32it/s]  "
     ]
    },
    {
     "name": "stdout",
     "output_type": "stream",
     "text": [
      "\titers: 4500, epoch: 3 | loss: 0.6164468\n",
      "\tspeed: 0.7600s/iter; left time: 3443650.9021s\n"
     ]
    },
    {
     "name": "stderr",
     "output_type": "stream",
     "text": [
      " 50%|█████     | 4599/9108 [57:56<58:02,  1.29it/s]  "
     ]
    },
    {
     "name": "stdout",
     "output_type": "stream",
     "text": [
      "\titers: 4600, epoch: 3 | loss: 1.0165430\n",
      "\tspeed: 0.7665s/iter; left time: 3473243.1569s\n"
     ]
    },
    {
     "name": "stderr",
     "output_type": "stream",
     "text": [
      " 52%|█████▏    | 4699/9108 [59:13<56:26,  1.30it/s]"
     ]
    },
    {
     "name": "stdout",
     "output_type": "stream",
     "text": [
      "\titers: 4700, epoch: 3 | loss: 1.0374328\n",
      "\tspeed: 0.7653s/iter; left time: 3467851.0330s\n"
     ]
    },
    {
     "name": "stderr",
     "output_type": "stream",
     "text": [
      " 53%|█████▎    | 4799/9108 [1:00:29<54:59,  1.31it/s]"
     ]
    },
    {
     "name": "stdout",
     "output_type": "stream",
     "text": [
      "\titers: 4800, epoch: 3 | loss: 0.2406449\n",
      "\tspeed: 0.7618s/iter; left time: 3451733.5758s\n"
     ]
    },
    {
     "name": "stderr",
     "output_type": "stream",
     "text": [
      " 54%|█████▍    | 4899/9108 [1:01:44<54:16,  1.29it/s]"
     ]
    },
    {
     "name": "stdout",
     "output_type": "stream",
     "text": [
      "\titers: 4900, epoch: 3 | loss: 0.3949639\n",
      "\tspeed: 0.7551s/iter; left time: 3421189.7260s\n"
     ]
    },
    {
     "name": "stderr",
     "output_type": "stream",
     "text": [
      " 55%|█████▍    | 4999/9108 [1:03:01<53:02,  1.29it/s]"
     ]
    },
    {
     "name": "stdout",
     "output_type": "stream",
     "text": [
      "\titers: 5000, epoch: 3 | loss: 0.5134434\n",
      "\tspeed: 0.7693s/iter; left time: 3485412.5018s\n"
     ]
    },
    {
     "name": "stderr",
     "output_type": "stream",
     "text": [
      " 56%|█████▌    | 5099/9108 [1:04:18<49:35,  1.35it/s]"
     ]
    },
    {
     "name": "stdout",
     "output_type": "stream",
     "text": [
      "\titers: 5100, epoch: 3 | loss: 0.5653105\n",
      "\tspeed: 0.7663s/iter; left time: 3471956.3966s\n"
     ]
    },
    {
     "name": "stderr",
     "output_type": "stream",
     "text": [
      " 57%|█████▋    | 5199/9108 [1:05:34<49:22,  1.32it/s]"
     ]
    },
    {
     "name": "stdout",
     "output_type": "stream",
     "text": [
      "\titers: 5200, epoch: 3 | loss: 0.3171064\n",
      "\tspeed: 0.7633s/iter; left time: 3458282.6000s\n"
     ]
    },
    {
     "name": "stderr",
     "output_type": "stream",
     "text": [
      " 58%|█████▊    | 5299/9108 [1:06:51<48:34,  1.31it/s]"
     ]
    },
    {
     "name": "stdout",
     "output_type": "stream",
     "text": [
      "\titers: 5300, epoch: 3 | loss: 0.4903637\n",
      "\tspeed: 0.7677s/iter; left time: 3478263.2827s\n"
     ]
    },
    {
     "name": "stderr",
     "output_type": "stream",
     "text": [
      " 59%|█████▉    | 5399/9108 [1:08:08<47:55,  1.29it/s]"
     ]
    },
    {
     "name": "stdout",
     "output_type": "stream",
     "text": [
      "\titers: 5400, epoch: 3 | loss: 0.6765747\n",
      "\tspeed: 0.7674s/iter; left time: 3476587.7783s\n"
     ]
    },
    {
     "name": "stderr",
     "output_type": "stream",
     "text": [
      " 60%|██████    | 5499/9108 [1:09:24<46:39,  1.29it/s]"
     ]
    },
    {
     "name": "stdout",
     "output_type": "stream",
     "text": [
      "\titers: 5500, epoch: 3 | loss: 0.7341089\n",
      "\tspeed: 0.7612s/iter; left time: 3448324.6204s\n"
     ]
    },
    {
     "name": "stderr",
     "output_type": "stream",
     "text": [
      " 61%|██████▏   | 5599/9108 [1:10:40<44:39,  1.31it/s]"
     ]
    },
    {
     "name": "stdout",
     "output_type": "stream",
     "text": [
      "\titers: 5600, epoch: 3 | loss: 0.6258435\n",
      "\tspeed: 0.7581s/iter; left time: 3434182.5315s\n"
     ]
    },
    {
     "name": "stderr",
     "output_type": "stream",
     "text": [
      " 63%|██████▎   | 5699/9108 [1:11:56<42:14,  1.34it/s]"
     ]
    },
    {
     "name": "stdout",
     "output_type": "stream",
     "text": [
      "\titers: 5700, epoch: 3 | loss: 0.6123417\n",
      "\tspeed: 0.7651s/iter; left time: 3465934.0005s\n"
     ]
    },
    {
     "name": "stderr",
     "output_type": "stream",
     "text": [
      " 64%|██████▎   | 5799/9108 [1:13:12<42:56,  1.28it/s]"
     ]
    },
    {
     "name": "stdout",
     "output_type": "stream",
     "text": [
      "\titers: 5800, epoch: 3 | loss: 0.5141265\n",
      "\tspeed: 0.7590s/iter; left time: 3438383.2119s\n"
     ]
    },
    {
     "name": "stderr",
     "output_type": "stream",
     "text": [
      " 65%|██████▍   | 5899/9108 [1:14:28<39:57,  1.34it/s]"
     ]
    },
    {
     "name": "stdout",
     "output_type": "stream",
     "text": [
      "\titers: 5900, epoch: 3 | loss: 0.1347952\n",
      "\tspeed: 0.7602s/iter; left time: 3443461.8453s\n"
     ]
    },
    {
     "name": "stderr",
     "output_type": "stream",
     "text": [
      " 66%|██████▌   | 5999/9108 [1:15:44<39:23,  1.32it/s]"
     ]
    },
    {
     "name": "stdout",
     "output_type": "stream",
     "text": [
      "\titers: 6000, epoch: 3 | loss: 0.8023671\n",
      "\tspeed: 0.7587s/iter; left time: 3436682.1464s\n"
     ]
    },
    {
     "name": "stderr",
     "output_type": "stream",
     "text": [
      " 67%|██████▋   | 6099/9108 [1:16:59<37:14,  1.35it/s]"
     ]
    },
    {
     "name": "stdout",
     "output_type": "stream",
     "text": [
      "\titers: 6100, epoch: 3 | loss: 0.7953930\n",
      "\tspeed: 0.7554s/iter; left time: 3421732.6978s\n"
     ]
    },
    {
     "name": "stderr",
     "output_type": "stream",
     "text": [
      " 68%|██████▊   | 6199/9108 [1:18:15<36:40,  1.32it/s]"
     ]
    },
    {
     "name": "stdout",
     "output_type": "stream",
     "text": [
      "\titers: 6200, epoch: 3 | loss: 0.4260144\n",
      "\tspeed: 0.7563s/iter; left time: 3425869.5391s\n"
     ]
    },
    {
     "name": "stderr",
     "output_type": "stream",
     "text": [
      " 69%|██████▉   | 6299/9108 [1:19:31<35:46,  1.31it/s]"
     ]
    },
    {
     "name": "stdout",
     "output_type": "stream",
     "text": [
      "\titers: 6300, epoch: 3 | loss: 0.9077928\n",
      "\tspeed: 0.7611s/iter; left time: 3447381.7307s\n"
     ]
    },
    {
     "name": "stderr",
     "output_type": "stream",
     "text": [
      " 70%|███████   | 6399/9108 [1:20:47<33:05,  1.36it/s]"
     ]
    },
    {
     "name": "stdout",
     "output_type": "stream",
     "text": [
      "\titers: 6400, epoch: 3 | loss: 1.0186936\n",
      "\tspeed: 0.7589s/iter; left time: 3437516.1415s\n"
     ]
    },
    {
     "name": "stderr",
     "output_type": "stream",
     "text": [
      " 71%|███████▏  | 6499/9108 [1:22:03<33:03,  1.32it/s]"
     ]
    },
    {
     "name": "stdout",
     "output_type": "stream",
     "text": [
      "\titers: 6500, epoch: 3 | loss: 0.4403168\n",
      "\tspeed: 0.7571s/iter; left time: 3429142.6030s\n"
     ]
    },
    {
     "name": "stderr",
     "output_type": "stream",
     "text": [
      " 72%|███████▏  | 6599/9108 [1:23:19<31:02,  1.35it/s]"
     ]
    },
    {
     "name": "stdout",
     "output_type": "stream",
     "text": [
      "\titers: 6600, epoch: 3 | loss: 0.6660122\n",
      "\tspeed: 0.7595s/iter; left time: 3440006.4788s\n"
     ]
    },
    {
     "name": "stderr",
     "output_type": "stream",
     "text": [
      " 74%|███████▎  | 6699/9108 [1:24:34<30:44,  1.31it/s]"
     ]
    },
    {
     "name": "stdout",
     "output_type": "stream",
     "text": [
      "\titers: 6700, epoch: 3 | loss: 0.6511068\n",
      "\tspeed: 0.7559s/iter; left time: 3423515.8245s\n"
     ]
    },
    {
     "name": "stderr",
     "output_type": "stream",
     "text": [
      " 75%|███████▍  | 6799/9108 [1:25:50<29:15,  1.31it/s]"
     ]
    },
    {
     "name": "stdout",
     "output_type": "stream",
     "text": [
      "\titers: 6800, epoch: 3 | loss: 0.8686098\n",
      "\tspeed: 0.7554s/iter; left time: 3421268.4449s\n"
     ]
    },
    {
     "name": "stderr",
     "output_type": "stream",
     "text": [
      " 76%|███████▌  | 6899/9108 [1:27:06<27:58,  1.32it/s]"
     ]
    },
    {
     "name": "stdout",
     "output_type": "stream",
     "text": [
      "\titers: 6900, epoch: 3 | loss: 0.7330205\n",
      "\tspeed: 0.7564s/iter; left time: 3425832.4604s\n"
     ]
    },
    {
     "name": "stderr",
     "output_type": "stream",
     "text": [
      " 77%|███████▋  | 6999/9108 [1:28:21<27:06,  1.30it/s]"
     ]
    },
    {
     "name": "stdout",
     "output_type": "stream",
     "text": [
      "\titers: 7000, epoch: 3 | loss: 0.9321613\n",
      "\tspeed: 0.7585s/iter; left time: 3435160.0910s\n"
     ]
    },
    {
     "name": "stderr",
     "output_type": "stream",
     "text": [
      " 78%|███████▊  | 7099/9108 [1:29:37<25:48,  1.30it/s]"
     ]
    },
    {
     "name": "stdout",
     "output_type": "stream",
     "text": [
      "\titers: 7100, epoch: 3 | loss: 0.8778494\n",
      "\tspeed: 0.7558s/iter; left time: 3422621.5731s\n"
     ]
    },
    {
     "name": "stderr",
     "output_type": "stream",
     "text": [
      " 79%|███████▉  | 7199/9108 [1:30:54<24:41,  1.29it/s]"
     ]
    },
    {
     "name": "stdout",
     "output_type": "stream",
     "text": [
      "\titers: 7200, epoch: 3 | loss: 0.3342271\n",
      "\tspeed: 0.7670s/iter; left time: 3473372.5153s\n"
     ]
    },
    {
     "name": "stderr",
     "output_type": "stream",
     "text": [
      " 80%|████████  | 7299/9108 [1:32:09<22:29,  1.34it/s]"
     ]
    },
    {
     "name": "stdout",
     "output_type": "stream",
     "text": [
      "\titers: 7300, epoch: 3 | loss: 0.7680140\n",
      "\tspeed: 0.7577s/iter; left time: 3431400.0446s\n"
     ]
    },
    {
     "name": "stderr",
     "output_type": "stream",
     "text": [
      " 81%|████████  | 7399/9108 [1:33:24<21:38,  1.32it/s]"
     ]
    },
    {
     "name": "stdout",
     "output_type": "stream",
     "text": [
      "\titers: 7400, epoch: 3 | loss: 0.8456275\n",
      "\tspeed: 0.7492s/iter; left time: 3392502.3272s\n"
     ]
    },
    {
     "name": "stderr",
     "output_type": "stream",
     "text": [
      " 82%|████████▏ | 7499/9108 [1:34:41<20:20,  1.32it/s]"
     ]
    },
    {
     "name": "stdout",
     "output_type": "stream",
     "text": [
      "\titers: 7500, epoch: 3 | loss: 0.5353674\n",
      "\tspeed: 0.7681s/iter; left time: 3478334.1844s\n"
     ]
    },
    {
     "name": "stderr",
     "output_type": "stream",
     "text": [
      " 83%|████████▎ | 7599/9108 [1:35:57<18:55,  1.33it/s]"
     ]
    },
    {
     "name": "stdout",
     "output_type": "stream",
     "text": [
      "\titers: 7600, epoch: 3 | loss: 1.0049343\n",
      "\tspeed: 0.7562s/iter; left time: 3423992.6697s\n"
     ]
    },
    {
     "name": "stderr",
     "output_type": "stream",
     "text": [
      " 85%|████████▍ | 7699/9108 [1:37:12<17:57,  1.31it/s]"
     ]
    },
    {
     "name": "stdout",
     "output_type": "stream",
     "text": [
      "\titers: 7700, epoch: 3 | loss: 0.4249462\n",
      "\tspeed: 0.7520s/iter; left time: 3405285.5836s\n"
     ]
    },
    {
     "name": "stderr",
     "output_type": "stream",
     "text": [
      " 86%|████████▌ | 7799/9108 [1:38:28<16:18,  1.34it/s]"
     ]
    },
    {
     "name": "stdout",
     "output_type": "stream",
     "text": [
      "\titers: 7800, epoch: 3 | loss: 0.7399879\n",
      "\tspeed: 0.7587s/iter; left time: 3435388.6053s\n"
     ]
    },
    {
     "name": "stderr",
     "output_type": "stream",
     "text": [
      " 87%|████████▋ | 7899/9108 [1:39:43<14:57,  1.35it/s]"
     ]
    },
    {
     "name": "stdout",
     "output_type": "stream",
     "text": [
      "\titers: 7900, epoch: 3 | loss: 0.5949410\n",
      "\tspeed: 0.7563s/iter; left time: 3424399.7147s\n"
     ]
    },
    {
     "name": "stderr",
     "output_type": "stream",
     "text": [
      " 88%|████████▊ | 7999/9108 [1:40:58<13:29,  1.37it/s]"
     ]
    },
    {
     "name": "stdout",
     "output_type": "stream",
     "text": [
      "\titers: 8000, epoch: 3 | loss: 0.8825991\n",
      "\tspeed: 0.7466s/iter; left time: 3380319.9795s\n"
     ]
    },
    {
     "name": "stderr",
     "output_type": "stream",
     "text": [
      " 89%|████████▉ | 8099/9108 [1:42:13<12:54,  1.30it/s]"
     ]
    },
    {
     "name": "stdout",
     "output_type": "stream",
     "text": [
      "\titers: 8100, epoch: 3 | loss: 0.9631702\n",
      "\tspeed: 0.7514s/iter; left time: 3401895.3823s\n"
     ]
    },
    {
     "name": "stderr",
     "output_type": "stream",
     "text": [
      " 90%|█████████ | 8199/9108 [1:43:28<11:21,  1.33it/s]"
     ]
    },
    {
     "name": "stdout",
     "output_type": "stream",
     "text": [
      "\titers: 8200, epoch: 3 | loss: 1.1970550\n",
      "\tspeed: 0.7520s/iter; left time: 3404810.1686s\n"
     ]
    },
    {
     "name": "stderr",
     "output_type": "stream",
     "text": [
      " 91%|█████████ | 8299/9108 [1:44:43<10:08,  1.33it/s]"
     ]
    },
    {
     "name": "stdout",
     "output_type": "stream",
     "text": [
      "\titers: 8300, epoch: 3 | loss: 0.4631515\n",
      "\tspeed: 0.7458s/iter; left time: 3376401.4959s\n"
     ]
    },
    {
     "name": "stderr",
     "output_type": "stream",
     "text": [
      " 92%|█████████▏| 8399/9108 [1:45:58<08:42,  1.36it/s]"
     ]
    },
    {
     "name": "stdout",
     "output_type": "stream",
     "text": [
      "\titers: 8400, epoch: 3 | loss: 0.4574011\n",
      "\tspeed: 0.7485s/iter; left time: 3388608.0785s\n"
     ]
    },
    {
     "name": "stderr",
     "output_type": "stream",
     "text": [
      " 93%|█████████▎| 8499/9108 [1:47:13<07:40,  1.32it/s]"
     ]
    },
    {
     "name": "stdout",
     "output_type": "stream",
     "text": [
      "\titers: 8500, epoch: 3 | loss: 0.7270321\n",
      "\tspeed: 0.7484s/iter; left time: 3388399.9271s\n"
     ]
    },
    {
     "name": "stderr",
     "output_type": "stream",
     "text": [
      " 94%|█████████▍| 8599/9108 [1:48:27<06:25,  1.32it/s]"
     ]
    },
    {
     "name": "stdout",
     "output_type": "stream",
     "text": [
      "\titers: 8600, epoch: 3 | loss: 0.3899203\n",
      "\tspeed: 0.7410s/iter; left time: 3354491.5016s\n"
     ]
    },
    {
     "name": "stderr",
     "output_type": "stream",
     "text": [
      " 96%|█████████▌| 8699/9108 [1:49:42<05:04,  1.34it/s]"
     ]
    },
    {
     "name": "stdout",
     "output_type": "stream",
     "text": [
      "\titers: 8700, epoch: 3 | loss: 0.6387570\n",
      "\tspeed: 0.7502s/iter; left time: 3396207.2178s\n"
     ]
    },
    {
     "name": "stderr",
     "output_type": "stream",
     "text": [
      " 97%|█████████▋| 8799/9108 [1:50:56<03:46,  1.36it/s]"
     ]
    },
    {
     "name": "stdout",
     "output_type": "stream",
     "text": [
      "\titers: 8800, epoch: 3 | loss: 0.2932743\n",
      "\tspeed: 0.7445s/iter; left time: 3370302.6341s\n"
     ]
    },
    {
     "name": "stderr",
     "output_type": "stream",
     "text": [
      " 98%|█████████▊| 8899/9108 [1:52:11<02:36,  1.34it/s]"
     ]
    },
    {
     "name": "stdout",
     "output_type": "stream",
     "text": [
      "\titers: 8900, epoch: 3 | loss: 0.1681142\n",
      "\tspeed: 0.7471s/iter; left time: 3382131.6157s\n"
     ]
    },
    {
     "name": "stderr",
     "output_type": "stream",
     "text": [
      " 99%|█████████▉| 8999/9108 [1:53:27<01:23,  1.30it/s]"
     ]
    },
    {
     "name": "stdout",
     "output_type": "stream",
     "text": [
      "\titers: 9000, epoch: 3 | loss: 0.6298019\n",
      "\tspeed: 0.7556s/iter; left time: 3420661.9040s\n"
     ]
    },
    {
     "name": "stderr",
     "output_type": "stream",
     "text": [
      "100%|█████████▉| 9099/9108 [1:54:42<00:06,  1.37it/s]"
     ]
    },
    {
     "name": "stdout",
     "output_type": "stream",
     "text": [
      "\titers: 9100, epoch: 3 | loss: 0.5588818\n",
      "\tspeed: 0.7532s/iter; left time: 3409676.5670s\n"
     ]
    },
    {
     "name": "stderr",
     "output_type": "stream",
     "text": [
      "100%|██████████| 9108/9108 [1:54:50<00:00,  1.32it/s]\n"
     ]
    },
    {
     "name": "stdout",
     "output_type": "stream",
     "text": [
      "Epoch: 3 cost time: 6890.062638044357\n",
      "Epoch: 3, Steps: 9108 | Train Loss: 0.6685283 Vali Loss: 0.6377494 Test Loss: 0.7026942\n",
      "Validation loss decreased (0.645139 --> 0.637749).  Saving model ...\n",
      "Updating learning rate to 2.5e-05\n"
     ]
    },
    {
     "name": "stderr",
     "output_type": "stream",
     "text": [
      "  1%|          | 99/9108 [01:42<1:56:18,  1.29it/s]"
     ]
    },
    {
     "name": "stdout",
     "output_type": "stream",
     "text": [
      "\titers: 100, epoch: 4 | loss: 0.8640089\n",
      "\tspeed: 56.9220s/iter; left time: 257661693.4831s\n"
     ]
    },
    {
     "name": "stderr",
     "output_type": "stream",
     "text": [
      "  2%|▏         | 199/9108 [02:55<1:51:28,  1.33it/s]"
     ]
    },
    {
     "name": "stdout",
     "output_type": "stream",
     "text": [
      "\titers: 200, epoch: 4 | loss: 0.8521042\n",
      "\tspeed: 0.7276s/iter; left time: 3293425.7705s\n"
     ]
    },
    {
     "name": "stderr",
     "output_type": "stream",
     "text": [
      "  3%|▎         | 299/9108 [04:09<1:42:35,  1.43it/s]"
     ]
    },
    {
     "name": "stdout",
     "output_type": "stream",
     "text": [
      "\titers: 300, epoch: 4 | loss: 0.3919797\n",
      "\tspeed: 0.7437s/iter; left time: 3366127.6155s\n"
     ]
    },
    {
     "name": "stderr",
     "output_type": "stream",
     "text": [
      "  4%|▍         | 399/9108 [05:16<1:33:15,  1.56it/s]"
     ]
    },
    {
     "name": "stdout",
     "output_type": "stream",
     "text": [
      "\titers: 400, epoch: 4 | loss: 0.4934419\n",
      "\tspeed: 0.6725s/iter; left time: 3044124.8855s\n"
     ]
    },
    {
     "name": "stderr",
     "output_type": "stream",
     "text": [
      "  5%|▌         | 499/9108 [06:23<1:39:12,  1.45it/s]"
     ]
    },
    {
     "name": "stdout",
     "output_type": "stream",
     "text": [
      "\titers: 500, epoch: 4 | loss: 0.1541242\n",
      "\tspeed: 0.6688s/iter; left time: 3026929.6020s\n"
     ]
    },
    {
     "name": "stderr",
     "output_type": "stream",
     "text": [
      "  7%|▋         | 599/9108 [07:31<1:34:21,  1.50it/s]"
     ]
    },
    {
     "name": "stdout",
     "output_type": "stream",
     "text": [
      "\titers: 600, epoch: 4 | loss: 0.3867736\n",
      "\tspeed: 0.6716s/iter; left time: 3039863.5711s\n"
     ]
    },
    {
     "name": "stderr",
     "output_type": "stream",
     "text": [
      "  8%|▊         | 699/9108 [08:39<1:35:00,  1.48it/s]"
     ]
    },
    {
     "name": "stdout",
     "output_type": "stream",
     "text": [
      "\titers: 700, epoch: 4 | loss: 0.4134353\n",
      "\tspeed: 0.6865s/iter; left time: 3106989.5725s\n"
     ]
    },
    {
     "name": "stderr",
     "output_type": "stream",
     "text": [
      "  9%|▉         | 799/9108 [09:47<1:32:01,  1.50it/s]"
     ]
    },
    {
     "name": "stdout",
     "output_type": "stream",
     "text": [
      "\titers: 800, epoch: 4 | loss: 0.8808891\n",
      "\tspeed: 0.6812s/iter; left time: 3083132.7983s\n"
     ]
    },
    {
     "name": "stderr",
     "output_type": "stream",
     "text": [
      " 10%|▉         | 899/9108 [10:55<1:33:16,  1.47it/s]"
     ]
    },
    {
     "name": "stdout",
     "output_type": "stream",
     "text": [
      "\titers: 900, epoch: 4 | loss: 1.1984395\n",
      "\tspeed: 0.6778s/iter; left time: 3067535.3184s\n"
     ]
    },
    {
     "name": "stderr",
     "output_type": "stream",
     "text": [
      " 11%|█         | 999/9108 [12:05<1:39:44,  1.36it/s]"
     ]
    },
    {
     "name": "stdout",
     "output_type": "stream",
     "text": [
      "\titers: 1000, epoch: 4 | loss: 0.3673525\n",
      "\tspeed: 0.7024s/iter; left time: 3178682.0583s\n"
     ]
    },
    {
     "name": "stderr",
     "output_type": "stream",
     "text": [
      " 12%|█▏        | 1099/9108 [13:15<1:35:00,  1.40it/s]"
     ]
    },
    {
     "name": "stdout",
     "output_type": "stream",
     "text": [
      "\titers: 1100, epoch: 4 | loss: 0.2747749\n",
      "\tspeed: 0.6985s/iter; left time: 3161101.2660s\n"
     ]
    },
    {
     "name": "stderr",
     "output_type": "stream",
     "text": [
      " 13%|█▎        | 1199/9108 [14:24<1:26:29,  1.52it/s]"
     ]
    },
    {
     "name": "stdout",
     "output_type": "stream",
     "text": [
      "\titers: 1200, epoch: 4 | loss: 1.1733346\n",
      "\tspeed: 0.6888s/iter; left time: 3117365.8109s\n"
     ]
    },
    {
     "name": "stderr",
     "output_type": "stream",
     "text": [
      " 14%|█▍        | 1299/9108 [15:41<1:30:42,  1.43it/s]"
     ]
    },
    {
     "name": "stdout",
     "output_type": "stream",
     "text": [
      "\titers: 1300, epoch: 4 | loss: 0.3509315\n",
      "\tspeed: 0.7724s/iter; left time: 3495602.4704s\n"
     ]
    },
    {
     "name": "stderr",
     "output_type": "stream",
     "text": [
      " 15%|█▌        | 1399/9108 [16:55<1:41:25,  1.27it/s]"
     ]
    },
    {
     "name": "stdout",
     "output_type": "stream",
     "text": [
      "\titers: 1400, epoch: 4 | loss: 0.4739773\n",
      "\tspeed: 0.7408s/iter; left time: 3352318.8865s\n"
     ]
    },
    {
     "name": "stderr",
     "output_type": "stream",
     "text": [
      " 16%|█▋        | 1499/9108 [18:08<1:29:35,  1.42it/s]"
     ]
    },
    {
     "name": "stdout",
     "output_type": "stream",
     "text": [
      "\titers: 1500, epoch: 4 | loss: 0.4478567\n",
      "\tspeed: 0.7240s/iter; left time: 3276396.2428s\n"
     ]
    },
    {
     "name": "stderr",
     "output_type": "stream",
     "text": [
      " 18%|█▊        | 1599/9108 [19:18<1:27:39,  1.43it/s]"
     ]
    },
    {
     "name": "stdout",
     "output_type": "stream",
     "text": [
      "\titers: 1600, epoch: 4 | loss: 1.0016025\n",
      "\tspeed: 0.7062s/iter; left time: 3195831.6826s\n"
     ]
    },
    {
     "name": "stderr",
     "output_type": "stream",
     "text": [
      " 19%|█▊        | 1699/9108 [20:29<1:26:02,  1.44it/s]"
     ]
    },
    {
     "name": "stdout",
     "output_type": "stream",
     "text": [
      "\titers: 1700, epoch: 4 | loss: 0.1931780\n",
      "\tspeed: 0.7109s/iter; left time: 3216637.9761s\n"
     ]
    },
    {
     "name": "stderr",
     "output_type": "stream",
     "text": [
      " 20%|█▉        | 1799/9108 [21:47<1:24:43,  1.44it/s]"
     ]
    },
    {
     "name": "stdout",
     "output_type": "stream",
     "text": [
      "\titers: 1800, epoch: 4 | loss: 0.2135115\n",
      "\tspeed: 0.7729s/iter; left time: 3497318.9120s\n"
     ]
    },
    {
     "name": "stderr",
     "output_type": "stream",
     "text": [
      " 21%|██        | 1899/9108 [23:00<1:20:27,  1.49it/s]"
     ]
    },
    {
     "name": "stdout",
     "output_type": "stream",
     "text": [
      "\titers: 1900, epoch: 4 | loss: 0.8066708\n",
      "\tspeed: 0.7304s/iter; left time: 3304704.7491s\n"
     ]
    },
    {
     "name": "stderr",
     "output_type": "stream",
     "text": [
      " 22%|██▏       | 1999/9108 [24:06<1:19:19,  1.49it/s]"
     ]
    },
    {
     "name": "stdout",
     "output_type": "stream",
     "text": [
      "\titers: 2000, epoch: 4 | loss: 0.4876635\n",
      "\tspeed: 0.6602s/iter; left time: 2987131.4515s\n"
     ]
    },
    {
     "name": "stderr",
     "output_type": "stream",
     "text": [
      " 23%|██▎       | 2099/9108 [25:17<1:18:55,  1.48it/s]"
     ]
    },
    {
     "name": "stdout",
     "output_type": "stream",
     "text": [
      "\titers: 2100, epoch: 4 | loss: 0.9880176\n",
      "\tspeed: 0.7115s/iter; left time: 3219291.6744s\n"
     ]
    },
    {
     "name": "stderr",
     "output_type": "stream",
     "text": [
      " 24%|██▍       | 2199/9108 [26:26<1:16:27,  1.51it/s]"
     ]
    },
    {
     "name": "stdout",
     "output_type": "stream",
     "text": [
      "\titers: 2200, epoch: 4 | loss: 0.1563007\n",
      "\tspeed: 0.6907s/iter; left time: 3124946.5012s\n"
     ]
    },
    {
     "name": "stderr",
     "output_type": "stream",
     "text": [
      " 25%|██▌       | 2299/9108 [27:38<1:23:11,  1.36it/s]"
     ]
    },
    {
     "name": "stdout",
     "output_type": "stream",
     "text": [
      "\titers: 2300, epoch: 4 | loss: 1.3974925\n",
      "\tspeed: 0.7161s/iter; left time: 3239820.5547s\n"
     ]
    },
    {
     "name": "stderr",
     "output_type": "stream",
     "text": [
      " 26%|██▋       | 2399/9108 [28:57<1:22:48,  1.35it/s]"
     ]
    },
    {
     "name": "stdout",
     "output_type": "stream",
     "text": [
      "\titers: 2400, epoch: 4 | loss: 0.4261395\n",
      "\tspeed: 0.7959s/iter; left time: 3600836.3240s\n"
     ]
    },
    {
     "name": "stderr",
     "output_type": "stream",
     "text": [
      " 27%|██▋       | 2499/9108 [30:14<1:26:20,  1.28it/s]"
     ]
    },
    {
     "name": "stdout",
     "output_type": "stream",
     "text": [
      "\titers: 2500, epoch: 4 | loss: 0.7771505\n",
      "\tspeed: 0.7648s/iter; left time: 3460133.5869s\n"
     ]
    },
    {
     "name": "stderr",
     "output_type": "stream",
     "text": [
      " 29%|██▊       | 2599/9108 [31:33<1:14:33,  1.45it/s]"
     ]
    },
    {
     "name": "stdout",
     "output_type": "stream",
     "text": [
      "\titers: 2600, epoch: 4 | loss: 0.6792120\n",
      "\tspeed: 0.7919s/iter; left time: 3582463.6624s\n"
     ]
    },
    {
     "name": "stderr",
     "output_type": "stream",
     "text": [
      " 30%|██▉       | 2699/9108 [32:50<1:08:05,  1.57it/s]"
     ]
    },
    {
     "name": "stdout",
     "output_type": "stream",
     "text": [
      "\titers: 2700, epoch: 4 | loss: 0.7248946\n",
      "\tspeed: 0.7719s/iter; left time: 3491906.8449s\n"
     ]
    },
    {
     "name": "stderr",
     "output_type": "stream",
     "text": [
      " 31%|███       | 2799/9108 [34:01<1:23:14,  1.26it/s]"
     ]
    },
    {
     "name": "stdout",
     "output_type": "stream",
     "text": [
      "\titers: 2800, epoch: 4 | loss: 0.7495041\n",
      "\tspeed: 0.7053s/iter; left time: 3190740.2123s\n"
     ]
    },
    {
     "name": "stderr",
     "output_type": "stream",
     "text": [
      " 32%|███▏      | 2899/9108 [35:09<1:15:38,  1.37it/s]"
     ]
    },
    {
     "name": "stdout",
     "output_type": "stream",
     "text": [
      "\titers: 2900, epoch: 4 | loss: 0.7658045\n",
      "\tspeed: 0.6795s/iter; left time: 3073715.5375s\n"
     ]
    },
    {
     "name": "stderr",
     "output_type": "stream",
     "text": [
      " 33%|███▎      | 2999/9108 [36:25<1:19:31,  1.28it/s]"
     ]
    },
    {
     "name": "stdout",
     "output_type": "stream",
     "text": [
      "\titers: 3000, epoch: 4 | loss: 1.4279877\n",
      "\tspeed: 0.7649s/iter; left time: 3460083.7896s\n"
     ]
    },
    {
     "name": "stderr",
     "output_type": "stream",
     "text": [
      " 34%|███▍      | 3099/9108 [37:40<1:18:20,  1.28it/s]"
     ]
    },
    {
     "name": "stdout",
     "output_type": "stream",
     "text": [
      "\titers: 3100, epoch: 4 | loss: 1.1952032\n",
      "\tspeed: 0.7503s/iter; left time: 3394182.0550s\n"
     ]
    },
    {
     "name": "stderr",
     "output_type": "stream",
     "text": [
      " 35%|███▌      | 3199/9108 [38:57<1:21:59,  1.20it/s]"
     ]
    },
    {
     "name": "stdout",
     "output_type": "stream",
     "text": [
      "\titers: 3200, epoch: 4 | loss: 0.5403056\n",
      "\tspeed: 0.7744s/iter; left time: 3503021.4119s\n"
     ]
    },
    {
     "name": "stderr",
     "output_type": "stream",
     "text": [
      " 36%|███▌      | 3299/9108 [40:17<1:13:56,  1.31it/s]"
     ]
    },
    {
     "name": "stdout",
     "output_type": "stream",
     "text": [
      "\titers: 3300, epoch: 4 | loss: 0.6364579\n",
      "\tspeed: 0.7952s/iter; left time: 3596909.6161s\n"
     ]
    },
    {
     "name": "stderr",
     "output_type": "stream",
     "text": [
      " 37%|███▋      | 3399/9108 [41:34<1:09:29,  1.37it/s]"
     ]
    },
    {
     "name": "stdout",
     "output_type": "stream",
     "text": [
      "\titers: 3400, epoch: 4 | loss: 0.4175492\n",
      "\tspeed: 0.7696s/iter; left time: 3481045.3710s\n"
     ]
    },
    {
     "name": "stderr",
     "output_type": "stream",
     "text": [
      " 38%|███▊      | 3499/9108 [42:52<1:12:18,  1.29it/s]"
     ]
    },
    {
     "name": "stdout",
     "output_type": "stream",
     "text": [
      "\titers: 3500, epoch: 4 | loss: 0.3470120\n",
      "\tspeed: 0.7750s/iter; left time: 3505603.5006s\n"
     ]
    },
    {
     "name": "stderr",
     "output_type": "stream",
     "text": [
      " 40%|███▉      | 3599/9108 [44:09<1:14:31,  1.23it/s]"
     ]
    },
    {
     "name": "stdout",
     "output_type": "stream",
     "text": [
      "\titers: 3600, epoch: 4 | loss: 1.1028520\n",
      "\tspeed: 0.7801s/iter; left time: 3528345.7689s\n"
     ]
    },
    {
     "name": "stderr",
     "output_type": "stream",
     "text": [
      " 40%|███▉      | 3608/9108 [44:17<1:11:54,  1.27it/s]"
     ]
    }
   ],
   "source": [
    "# 检查并设置 GPU\n",
    "args.use_gpu = torch.cuda.is_available() and args.use_gpu\n",
    "if args.use_gpu:\n",
    "    print(\"使用 GPU.\")\n",
    "    total_cuda_devices = torch.cuda.device_count()  # 获取系统中可用的 GPU 总数\n",
    "    print(f\"系统中总共有 {total_cuda_devices} 个 CUDA 设备可用。\")\n",
    "    if args.use_multi_gpu:\n",
    "        args.devices = args.devices.replace(' ', '')\n",
    "        device_ids = args.devices.split(',')\n",
    "        args.device_ids = [int(id_) for id_ in device_ids]\n",
    "        args.gpu = args.device_ids[0]\n",
    "        \n",
    "        # 打印多 GPU 使用情况\n",
    "        print(f\"使用多个GPU: {args.device_ids}\")\n",
    "        device = torch.device(f\"cuda:{args.gpu}\" if args.use_gpu else \"cpu\")\n",
    "        print(f\"Primary GPU (cuda:{args.gpu}) is in use.\")\n",
    "    else:\n",
    "        args.gpu = 0\n",
    "        device = torch.device(\"cuda\" if args.use_gpu else \"cpu\")\n",
    "        print(\"使用单个 GPU.\")\n",
    "else:\n",
    "    device = torch.device(\"cpu\")\n",
    "    print(\"使用 CPU.\")\n",
    "\n",
    "# 选择合适的实验类\n",
    "if args.task_name == 'long_term_forecast':\n",
    "    Exp = Exp_Long_Term_Forecast\n",
    "# elif args.task_name == 'short_term_forecast':\n",
    "#     Exp = Exp_Short_Term_Forecast\n",
    "# elif args.task_name == 'imputation':\n",
    "#     Exp = Exp_Imputation\n",
    "# elif args.task_name == 'anomaly_detection':\n",
    "#     Exp = Exp_Anomaly_Detection\n",
    "# elif args.task_name == 'classification':\n",
    "#     Exp = Exp_Classification\n",
    "else:\n",
    "    Exp = Exp_Long_Term_Forecast  # 默认情况\n",
    "\n",
    "# 进行训练和测试\n",
    "if args.is_training:\n",
    "    for ii in range(args.itr):\n",
    "        # 实验记录设置\n",
    "        setting = '{}_{}_{}_{}_ft{}_sl{}_ll{}_pl{}_dm{}_nh{}_el{}_dl{}_df{}_fc{}_eb{}_dt{}_{}_{}'.format(\n",
    "            args.task_name,\n",
    "            args.model_id,\n",
    "            args.model,\n",
    "            args.data,\n",
    "            args.features,\n",
    "            args.seq_len,\n",
    "            args.label_len,\n",
    "            args.pred_len,\n",
    "            args.d_model,\n",
    "            args.n_heads,\n",
    "            args.e_layers,\n",
    "            args.d_layers,\n",
    "            args.d_ff,\n",
    "            args.factor,\n",
    "            args.embed,\n",
    "            args.distil,\n",
    "            args.des, ii)\n",
    "\n",
    "        exp = Exp(args)  # 设置实验\n",
    "        print('>>>>>>>开始训练 : {}>>>>>>>>>>>>>>>>>>>>>>>>>>'.format(setting))\n",
    "        exp.train(setting)\n",
    "\n",
    "        print('>>>>>>>测试 : {}<<<<<<<<<<<<<<<<<<<<<<<<<<<<<<<<<'.format(setting))\n",
    "        exp.test(setting)\n",
    "        if args.use_gpu:\n",
    "            torch.cuda.empty_cache()\n",
    "else:\n",
    "    ii = 0\n",
    "    setting = '{}_{}_{}_{}_ft{}_sl{}_ll{}_pl{}_dm{}_nh{}_el{}_dl{}_df{}_fc{}_eb{}_dt{}_{}_{}'.format(\n",
    "        args.task_name,\n",
    "        args.model_id,\n",
    "        args.model,\n",
    "        args.data,\n",
    "        args.features,\n",
    "        args.seq_len,\n",
    "        args.label_len,\n",
    "        args.pred_len,\n",
    "        args.d_model,\n",
    "        args.n_heads,\n",
    "        args.e_layers,\n",
    "        args.d_layers,\n",
    "        args.d_ff,\n",
    "        args.factor,\n",
    "        args.embed,\n",
    "        args.distil,\n",
    "        args.des, ii)\n",
    "\n",
    "    exp = Exp(args)  # 设置实验\n",
    "    print('>>>>>>>测试 : {}<<<<<<<<<<<<<<<<<<<<<<<<<<<<<<<<<'.format(setting))\n",
    "    exp.test(setting, test=1)\n",
    "    if args.use_gpu:\n",
    "        torch.cuda.empty_cache()"
   ]
  },
  {
   "cell_type": "code",
   "execution_count": null,
   "metadata": {},
   "outputs": [],
   "source": [
    "%reload_ext tensorboard\n",
    "%tensorboard --logdir=./runs/"
   ]
  }
 ],
 "metadata": {
  "kernelspec": {
   "display_name": "my",
   "language": "python",
   "name": "python3"
  },
  "language_info": {
   "codemirror_mode": {
    "name": "ipython",
    "version": 3
   },
   "file_extension": ".py",
   "mimetype": "text/x-python",
   "name": "python",
   "nbconvert_exporter": "python",
   "pygments_lexer": "ipython3",
   "version": "3.11.4"
  }
 },
 "nbformat": 4,
 "nbformat_minor": 2
}
